{
 "cells": [
  {
   "cell_type": "code",
   "execution_count": 283,
   "metadata": {},
   "outputs": [],
   "source": [
    "import glob\n",
    "import shutil\n",
    "import numpy as np\n",
    "import pandas as pd\n",
    "from biom import load_table\n",
    "from skbio.stats.composition import clr_inv as softmax\n",
    "from skbio.util import get_data_path\n",
    "from scipy.stats import spearmanr, pearsonr\n",
    "from scipy.sparse import coo_matrix\n",
    "from scipy.spatial.distance import pdist\n",
    "from mmvec.multimodal import MMvec\n",
    "from mmvec.util import random_multimodal\n",
    "from tensorflow import set_random_seed\n",
    "import tensorflow as tf\n",
    "import warnings\n",
    "warnings.filterwarnings(\"ignore\")\n",
    "import matplotlib.pyplot as plt\n",
    "import seaborn as sns\n",
    "from skbio.stats.composition import clr\n",
    "\n",
    "import os\n",
    "os.environ['TF_CPP_MIN_LOG_LEVEL'] = '3' \n",
    "\n",
    "%matplotlib inline"
   ]
  },
  {
   "cell_type": "code",
   "execution_count": 284,
   "metadata": {},
   "outputs": [],
   "source": [
    "def mmvec_fit(trainX, trainY, testX, testY):\n",
    "    device_name='/device:GPU:0'\n",
    "    np.random.seed(2)\n",
    "    tf.reset_default_graph()\n",
    "    n, d1 = trainX.shape\n",
    "    n, d2 = trainY.shape\n",
    "    with tf.Graph().as_default(), tf.Session() as session:\n",
    "        set_random_seed(0)\n",
    "        model = MMvec(beta_1=0.8, beta_2=0.9, latent_dim=3, \n",
    "                      device_name=device_name, batch_size=10000, \n",
    "                      learning_rate=1e-1)\n",
    "        model(session,\n",
    "              coo_matrix(trainX.values), trainY.values,\n",
    "              coo_matrix(testX.values), testY.values)\n",
    "        loss, cv = model.fit(epoch=1000)\n",
    "\n",
    "        res = softmax(model.ranks())\n",
    "        return res"
   ]
  },
  {
   "cell_type": "markdown",
   "metadata": {},
   "source": [
    "# Dense benchmark configurations"
   ]
  },
  {
   "cell_type": "code",
   "execution_count": 285,
   "metadata": {},
   "outputs": [],
   "source": [
    "metabolite_total = 100000\n",
    "microbe_total = 10000"
   ]
  },
  {
   "cell_type": "code",
   "execution_count": 286,
   "metadata": {},
   "outputs": [],
   "source": [
    "sigmaB = 1.418    \n",
    "sigmaQ = 0.8735   \n",
    "sigmaU = 0.1      \n",
    "sigmaV = 0.1      \n",
    "uB = -3.0    \n",
    "uU = -3.0      \n",
    "uV = -0.6325"
   ]
  },
  {
   "cell_type": "code",
   "execution_count": 287,
   "metadata": {},
   "outputs": [],
   "source": [
    "np.random.seed(1)\n",
    "res = random_multimodal(\n",
    "    num_microbes=100, num_metabolites=100, num_samples=500,\n",
    "    latent_dim=3, sigmaQ=sigmaQ, uU=uU, uV=uV, sigmaU=sigmaU, sigmaV=sigmaV,\n",
    "    microbe_total=microbe_total, metabolite_total=metabolite_total, seed=1\n",
    ")\n",
    "(microbes, metabolites, X, B,\n",
    " U, Ubias, V, Vbias) = res\n",
    "num_train = 10\n",
    "trainX = microbes.iloc[:-num_train]\n",
    "testX = microbes.iloc[-num_train:]\n",
    "trainY = metabolites.iloc[:-num_train]\n",
    "testY = metabolites.iloc[-num_train:]"
   ]
  },
  {
   "cell_type": "code",
   "execution_count": 288,
   "metadata": {},
   "outputs": [
    {
     "data": {
      "text/plain": [
       "0.0001"
      ]
     },
     "execution_count": 288,
     "metadata": {},
     "output_type": "execute_result"
    }
   ],
   "source": [
    "(microbes == 0).sum().sum() / (microbes.shape[0] * microbes.shape[1])"
   ]
  },
  {
   "cell_type": "code",
   "execution_count": 289,
   "metadata": {},
   "outputs": [],
   "source": [
    "C = np.corrcoef(microbes.values.T, metabolites.values.T) \n",
    "Cclr = np.corrcoef(clr(microbes.values+1).T, clr(metabolites.values+1).T)"
   ]
  },
  {
   "cell_type": "code",
   "execution_count": 290,
   "metadata": {},
   "outputs": [
    {
     "name": "stderr",
     "output_type": "stream",
     "text": [
      "100%|██████████| 4899/4899 [00:25<00:00, 195.72it/s]"
     ]
    },
    {
     "name": "stdout",
     "output_type": "stream",
     "text": [
      "0.0015118636351186365 0.8798435470356817 0.0036123583201235834 0.7179560318111802\n"
     ]
    },
    {
     "name": "stderr",
     "output_type": "stream",
     "text": [
      "\n"
     ]
    }
   ],
   "source": [
    "res = mmvec_fit(trainX, trainY, testX, testY)\n",
    "U_ = np.hstack(\n",
    "    (np.ones((U.shape[0], 1)), Ubias, U))\n",
    "V_ = np.vstack(\n",
    "    (Vbias, np.ones((1, V.shape[1])), V))\n",
    "exp = softmax(np.hstack((np.zeros((microbes.shape[1], 1)), U_ @ V_)))\n",
    "mmvec_r, mmvec_p = spearmanr(np.ravel(res), np.ravel(exp))\n",
    "\n",
    "cidx = ~np.isnan(C[:100, 100:])\n",
    "C_ = C[:100, 100:]\n",
    "\n",
    "clr_idx = ~np.isnan(Cclr[:100, 100:])\n",
    "Cclr_ = Cclr[:100, 100:]\n",
    "C_r, C_p = spearmanr(np.ravel(C_[cidx]), np.ravel(exp[cidx]))\n",
    "Cclr_r, Cclr_p = spearmanr(np.ravel(Cclr_[clr_idx]), np.ravel(exp[clr_idx]))\n",
    "print(C_r, C_p, Cclr_r, Cclr_p)"
   ]
  },
  {
   "cell_type": "code",
   "execution_count": null,
   "metadata": {},
   "outputs": [],
   "source": [
    "title_font = 14\n",
    "\n",
    "fig, ax = plt.subplots(1, 3, figsize=(12, 3))\n",
    "ax[0].scatter(np.log(np.ravel(res)), np.log(np.ravel(exp)), s=.1)\n",
    "s_r, s_p = pearsonr(np.ravel(res), np.ravel(exp))\n",
    "ax[0].set_title('MMvec \\n (R={0:.3f}, p={1:.3f})'.format(s_r, s_p), fontsize=title_font)\n",
    "ax[0].set_xlabel('Estimated co-occurrences', fontsize=title_font)\n",
    "ax[0].set_ylabel('Ground truth \\n co-occurrences', fontsize=title_font)\n",
    "\n",
    "ax[1].scatter(np.log(np.ravel(C_[cidx])), np.log(np.ravel(exp[cidx])), s=.1)\n",
    "s_r, s_p = pearsonr(np.ravel(C_[cidx]), np.ravel(exp[cidx]))\n",
    "ax[1].set_title('Pearson\\n(R={0:.3f}, p={1:.3f})'.format(s_r, s_p), fontsize=title_font)\n",
    "ax[1].set_xlabel('Estimated co-occurrences', fontsize=title_font)\n",
    "#ax[2].ylabel('Ground truth co-occurrences')\n",
    "\n",
    "ax[2].scatter(np.log(np.ravel(Cclr_[clr_idx])), np.log(np.ravel(exp[clr_idx])), s=.1)\n",
    "s_r, s_p = pearsonr(np.ravel(Cclr_[clr_idx]), np.ravel(exp[clr_idx]))\n",
    "ax[2].set_title('CLR transformed Pearson \\n (R={0:.3f}, p={1:.3f})'.format(s_r, s_p), \n",
    "                fontsize=title_font)\n",
    "ax[2].set_xlabel('Estimated co-occurrences', fontsize=title_font)\n",
    "#ax[1].set_ylabel('Ground truth co-occurrences')\n",
    "\n",
    "plt.tight_layout()\n",
    "plt.savefig('../results/dense_benchmark.png')"
   ]
  },
  {
   "cell_type": "markdown",
   "metadata": {},
   "source": [
    "# Sparse benchmark configurations"
   ]
  },
  {
   "cell_type": "code",
   "execution_count": 296,
   "metadata": {},
   "outputs": [],
   "source": [
    "sigmaB = 10.0     \n",
    "sigmaQ = 10.0     \n",
    "sigmaU = 0.1      \n",
    "sigmaV = 10.0     \n",
    "uB = -5.0      \n",
    "uU = 0.135    \n",
    "uV = -0.07268"
   ]
  },
  {
   "cell_type": "code",
   "execution_count": 297,
   "metadata": {},
   "outputs": [],
   "source": [
    "np.random.seed(1)\n",
    "res = random_multimodal(\n",
    "    num_microbes=100, num_metabolites=100, num_samples=500,\n",
    "    latent_dim=3, sigmaQ=sigmaQ, uU=uU, uV=uV, sigmaU=sigmaU, sigmaV=sigmaV,\n",
    "    microbe_total=microbe_total, metabolite_total=metabolite_total, seed=1\n",
    ")\n",
    "(microbes, metabolites, X, B,\n",
    " U, Ubias, V, Vbias) = res\n",
    "num_train = 10\n",
    "trainX = microbes.iloc[:-num_train]\n",
    "testX = microbes.iloc[-num_train:]\n",
    "trainY = metabolites.iloc[:-num_train]\n",
    "testY = metabolites.iloc[-num_train:]"
   ]
  },
  {
   "cell_type": "code",
   "execution_count": 298,
   "metadata": {},
   "outputs": [
    {
     "data": {
      "text/plain": [
       "0.39828"
      ]
     },
     "execution_count": 298,
     "metadata": {},
     "output_type": "execute_result"
    }
   ],
   "source": [
    "(microbes == 0).sum().sum() / (microbes.shape[0] * microbes.shape[1])"
   ]
  },
  {
   "cell_type": "code",
   "execution_count": 299,
   "metadata": {},
   "outputs": [],
   "source": [
    "C = np.corrcoef(microbes.values.T, metabolites.values.T) \n",
    "Cclr = np.corrcoef(clr(microbes.values+1).T, clr(metabolites.values+1).T)"
   ]
  },
  {
   "cell_type": "code",
   "execution_count": 300,
   "metadata": {},
   "outputs": [
    {
     "name": "stderr",
     "output_type": "stream",
     "text": [
      "100%|██████████| 2953/2953 [00:13<00:00, 211.06it/s]"
     ]
    },
    {
     "name": "stdout",
     "output_type": "stream",
     "text": [
      "-0.019602897552816956 0.28311384507420806 -0.1595761262852689 4.9749826797745765e-58\n"
     ]
    },
    {
     "name": "stderr",
     "output_type": "stream",
     "text": [
      "\n"
     ]
    }
   ],
   "source": [
    "res = mmvec_fit(trainX, trainY, testX, testY)\n",
    "U_ = np.hstack(\n",
    "    (np.ones((U.shape[0], 1)), Ubias, U))\n",
    "V_ = np.vstack(\n",
    "    (Vbias, np.ones((1, V.shape[1])), V))\n",
    "exp = softmax(np.hstack((np.zeros((microbes.shape[1], 1)), U_ @ V_)))\n",
    "mmvec_r, mmvec_p = spearmanr(np.ravel(res), np.ravel(exp))\n",
    "\n",
    "cidx = ~np.isnan(C[:100, 100:])\n",
    "C_ = C[:100, 100:]\n",
    "\n",
    "clr_idx = ~np.isnan(Cclr[:100, 100:])\n",
    "Cclr_ = Cclr[:100, 100:]\n",
    "C_r, C_p = spearmanr(np.ravel(C_[cidx]), np.ravel(exp[cidx]))\n",
    "Cclr_r, Cclr_p = spearmanr(np.ravel(Cclr_[clr_idx]), np.ravel(exp[clr_idx]))\n",
    "print(C_r, C_p, Cclr_r, Cclr_p)"
   ]
  },
  {
   "cell_type": "code",
   "execution_count": 301,
   "metadata": {},
   "outputs": [
    {
     "data": {
      "image/png": "[encoded data removed]",
      "text/plain": [
       "<Figure size 864x216 with 3 Axes>"
      ]
     },
     "metadata": {
      "needs_background": "light"
     },
     "output_type": "display_data"
    }
   ],
   "source": [
    "title_font = 14\n",
    "\n",
    "fig, ax = plt.subplots(1, 3, figsize=(12, 3))\n",
    "ax[0].scatter(np.log(np.ravel(res)), np.log(np.ravel(exp)), s=.1)\n",
    "s_r, s_p = pearsonr(np.ravel(res), np.ravel(exp))\n",
    "ax[0].set_title('MMvec \\n (R={0:.3f}, p={1:.3f})'.format(s_r, s_p), fontsize=title_font)\n",
    "ax[0].set_xlabel('Estimated co-occurrences', fontsize=title_font)\n",
    "ax[0].set_ylabel('Ground truth \\n co-occurrences', fontsize=title_font)\n",
    "\n",
    "ax[1].scatter(np.log(np.ravel(C_[cidx])), np.log(np.ravel(exp[cidx])), s=.1)\n",
    "s_r, s_p = pearsonr(np.ravel(C_[cidx]), np.ravel(exp[cidx]))\n",
    "ax[1].set_title('Pearson\\n(R={0:.3f}, p={1:.3f})'.format(s_r, s_p), fontsize=title_font)\n",
    "ax[1].set_xlabel('Estimated co-occurrences', fontsize=title_font)\n",
    "#ax[2].ylabel('Ground truth co-occurrences')\n",
    "\n",
    "ax[2].scatter(np.log(np.ravel(Cclr_[clr_idx])), np.log(np.ravel(exp[clr_idx])), s=.1)\n",
    "s_r, s_p = pearsonr(np.ravel(Cclr_[clr_idx]), np.ravel(exp[clr_idx]))\n",
    "ax[2].set_title('CLR transformed Pearson \\n (R={0:.3f}, p={1:.3f})'.format(s_r, s_p), \n",
    "                fontsize=title_font)\n",
    "ax[2].set_xlabel('Estimated co-occurrences', fontsize=title_font)\n",
    "#ax[1].set_ylabel('Ground truth co-occurrences')\n",
    "\n",
    "plt.tight_layout()\n",
    "plt.savefig('../results/sparse_benchmark.png')"
   ]
  },
  {
   "cell_type": "code",
   "execution_count": null,
   "metadata": {},
   "outputs": [],
   "source": []
  }
 ],
 "metadata": {
  "kernelspec": {
   "display_name": "Python 3",
   "language": "python",
   "name": "python3"
  },
  "language_info": {
   "codemirror_mode": {
    "name": "ipython",
    "version": 3
   },
   "file_extension": ".py",
   "mimetype": "text/x-python",
   "name": "python",
   "nbconvert_exporter": "python",
   "pygments_lexer": "ipython3",
   "version": "3.7.6"
  }
 },
 "nbformat": 4,
 "nbformat_minor": 4
}
