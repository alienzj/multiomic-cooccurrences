{
 "cells": [
  {
   "cell_type": "code",
   "execution_count": 89,
   "metadata": {},
   "outputs": [],
   "source": [
    "import glob\n",
    "import shutil\n",
    "import numpy as np\n",
    "import pandas as pd\n",
    "from biom import load_table\n",
    "from skbio.stats.composition import clr_inv as softmax\n",
    "from skbio.util import get_data_path\n",
    "from scipy.stats import spearmanr, pearsonr\n",
    "from scipy.sparse import coo_matrix\n",
    "from scipy.spatial.distance import pdist\n",
    "from mmvec.multimodal import MMvec\n",
    "from mmvec.util import random_multimodal\n",
    "from tensorflow import set_random_seed\n",
    "import tensorflow as tf\n",
    "import warnings\n",
    "warnings.filterwarnings(\"ignore\")\n",
    "import matplotlib.pyplot as plt\n",
    "import seaborn as sns\n",
    "import os\n",
    "os.environ['TF_CPP_MIN_LOG_LEVEL'] = '3' \n",
    "\n",
    "%matplotlib inline"
   ]
  },
  {
   "cell_type": "code",
   "execution_count": 90,
   "metadata": {},
   "outputs": [],
   "source": [
    "microbe_total = 1000\n",
    "metabolite_total = 10000\n",
    "np.random.seed(1)\n",
    "res = random_multimodal(\n",
    "    num_microbes=100, num_metabolites=100, num_samples=500,\n",
    "    latent_dim=3, \n",
    "    microbe_total=microbe_total, metabolite_total=metabolite_total, seed=1\n",
    ")\n",
    "(microbes, metabolites, X, B,\n",
    " U, Ubias, V, Vbias) = res\n",
    "num_train = 10\n",
    "trainX = microbes.iloc[:-num_train]\n",
    "testX = microbes.iloc[-num_train:]\n",
    "trainY = metabolites.iloc[:-num_train]\n",
    "testY = metabolites.iloc[-num_train:]"
   ]
  },
  {
   "cell_type": "code",
   "execution_count": 91,
   "metadata": {},
   "outputs": [],
   "source": [
    "def mmvec_fit(trainX, trainY, testX, testY):\n",
    "    device_name='/device:GPU:0'\n",
    "    np.random.seed(1)\n",
    "    tf.reset_default_graph()\n",
    "    n, d1 = trainX.shape\n",
    "    n, d2 = trainY.shape\n",
    "    with tf.Graph().as_default(), tf.Session() as session:\n",
    "        set_random_seed(0)\n",
    "        model = MMvec(beta_1=0.8, beta_2=0.9, latent_dim=3, \n",
    "                      device_name=device_name, batch_size=10000, \n",
    "                      learning_rate=1e-1)\n",
    "        model(session,\n",
    "              coo_matrix(trainX.values), trainY.values,\n",
    "              coo_matrix(testX.values), testY.values)\n",
    "        loss, cv = model.fit(epoch=500)\n",
    "\n",
    "        res = softmax(model.ranks())\n",
    "        return res"
   ]
  },
  {
   "cell_type": "code",
   "execution_count": 92,
   "metadata": {},
   "outputs": [],
   "source": [
    "from skbio.stats.composition import clr\n",
    "\n",
    "def pearson_fit(microbes, metabolites):\n",
    "    C = np.corrcoef(microbes.values.T, metabolites.values.T) \n",
    "    Cclr = np.corrcoef(clr(microbes.values+1).T, clr(metabolites.values+1).T)\n",
    "    return C, Cclr"
   ]
  },
  {
   "cell_type": "code",
   "execution_count": 97,
   "metadata": {},
   "outputs": [],
   "source": [
    "def black_box_function(uB, sigmaB, sigmaQ, uU, sigmaU, uV, sigmaV):\n",
    "    microbe_total = 1000\n",
    "    metabolite_total = 100000\n",
    "    np.random.seed(1)\n",
    "    try:\n",
    "        res = random_multimodal(\n",
    "            num_microbes=100, num_metabolites=100, num_samples=500,\n",
    "            latent_dim=3, sigmaQ=sigmaQ, uU=uU, uV=uV, sigmaU=sigmaU, sigmaV=sigmaV,\n",
    "            microbe_total=microbe_total, metabolite_total=metabolite_total, seed=1\n",
    "        )\n",
    "    except:\n",
    "        return -1 # simulation broke\n",
    "    (microbes, metabolites, X, B,\n",
    "     U, Ubias, V, Vbias) = res\n",
    "    num_train = 10\n",
    "    trainX = microbes.iloc[:-num_train]\n",
    "    testX = microbes.iloc[-num_train:]\n",
    "    trainY = metabolites.iloc[:-num_train]\n",
    "    testY = metabolites.iloc[-num_train:]\n",
    "\n",
    "    res = mmvec_fit(trainX, trainY, testX, testY)\n",
    "    C, Cclr = pearson_fit(trainX, trainY)\n",
    "    U_ = np.hstack(\n",
    "        (np.ones((U.shape[0], 1)), Ubias, U))\n",
    "    V_ = np.vstack(\n",
    "        (Vbias, np.ones((1, V.shape[1])), V))\n",
    "    exp = softmax(np.hstack((np.zeros((microbes.shape[1], 1)), U_ @ V_)))\n",
    "    mmvec_r, mmvec_p = spearmanr(np.ravel(res), np.ravel(exp))\n",
    "    C_r, C_p = spearmanr(np.ravel(C[:100, 100:]), np.ravel(exp))\n",
    "    Cclr_r, Cclr_p = spearmanr(np.ravel(Cclr[:100, 100:]), np.ravel(exp))\n",
    "    print(mmvec_r, Cclr_r, C_r)\n",
    "    sparsity = (microbes == 0).sum().sum() / (microbes.shape[0] * microbes.shape[1])\n",
    "    c = max(np.nan_to_num(C_r), np.nan_to_num(Cclr_r))\n",
    "    return (mmvec_r - c) * sparsity"
   ]
  },
  {
   "cell_type": "code",
   "execution_count": 98,
   "metadata": {},
   "outputs": [
    {
     "name": "stdout",
     "output_type": "stream",
     "text": [
      "|   iter    |  target   |  sigmaB   |  sigmaQ   |  sigmaU   |  sigmaV   |    uB     |    uU     |    uV     |\n",
      "-------------------------------------------------------------------------------------------------------------\n"
     ]
    },
    {
     "name": "stderr",
     "output_type": "stream",
     "text": [
      "100%|██████████| 1108/1108 [00:05<00:00, 214.62it/s]\n"
     ]
    },
    {
     "name": "stdout",
     "output_type": "stream",
     "text": [
      "0.11618168190468721 -0.10824002934054129 nan\n",
      "| \u001b[0m 1       \u001b[0m | \u001b[0m 0.06365 \u001b[0m | \u001b[0m 5.533   \u001b[0m | \u001b[0m 7.18    \u001b[0m | \u001b[0m 6.067   \u001b[0m | \u001b[0m 5.494   \u001b[0m | \u001b[0m-0.7635  \u001b[0m | \u001b[0m 1.459   \u001b[0m | \u001b[0m-0.6241  \u001b[0m |\n"
     ]
    },
    {
     "name": "stderr",
     "output_type": "stream",
     "text": [
      "100%|██████████| 884/884 [00:04<00:00, 214.57it/s]\n"
     ]
    },
    {
     "name": "stdout",
     "output_type": "stream",
     "text": [
      "0.15266481490537712 -0.09681824662797403 nan\n",
      "| \u001b[95m 2       \u001b[0m | \u001b[95m 0.09761 \u001b[0m | \u001b[95m 8.929   \u001b[0m | \u001b[95m 9.64    \u001b[0m | \u001b[95m 3.896   \u001b[0m | \u001b[95m 7.938   \u001b[0m | \u001b[95m 0.2889  \u001b[0m | \u001b[95m 0.6804  \u001b[0m | \u001b[95m 4.256   \u001b[0m |\n"
     ]
    },
    {
     "name": "stderr",
     "output_type": "stream",
     "text": [
      "100%|██████████| 1263/1263 [00:06<00:00, 210.41it/s]\n"
     ]
    },
    {
     "name": "stdout",
     "output_type": "stream",
     "text": [
      "0.1750005600775068 -0.09244762823364218 nan\n",
      "| \u001b[0m 3       \u001b[0m | \u001b[0m 0.08479 \u001b[0m | \u001b[0m 9.927   \u001b[0m | \u001b[0m 5.98    \u001b[0m | \u001b[0m 7.253   \u001b[0m | \u001b[0m 2.417   \u001b[0m | \u001b[0m 1.548   \u001b[0m | \u001b[0m-4.817   \u001b[0m | \u001b[0m-4.905   \u001b[0m |\n"
     ]
    },
    {
     "name": "stderr",
     "output_type": "stream",
     "text": [
      "100%|██████████| 1242/1242 [00:05<00:00, 208.83it/s]\n"
     ]
    },
    {
     "name": "stdout",
     "output_type": "stream",
     "text": [
      "0.3823137185711371 0.4583159882031599 0.6245780484417806\n",
      "| \u001b[0m 4       \u001b[0m | \u001b[0m-0.1194  \u001b[0m | \u001b[0m 5.6     \u001b[0m | \u001b[0m 6.103   \u001b[0m | \u001b[0m 3.755   \u001b[0m | \u001b[0m 0.4237  \u001b[0m | \u001b[0m 1.921   \u001b[0m | \u001b[0m 1.435   \u001b[0m | \u001b[0m 1.602   \u001b[0m |\n"
     ]
    },
    {
     "name": "stderr",
     "output_type": "stream",
     "text": [
      "100%|██████████| 1256/1256 [00:05<00:00, 213.82it/s]\n"
     ]
    },
    {
     "name": "stdout",
     "output_type": "stream",
     "text": [
      "0.5940463345924633 0.4450177344101774 0.7670784600627846\n",
      "| \u001b[0m 5       \u001b[0m | \u001b[0m-0.08439 \u001b[0m | \u001b[0m 2.44    \u001b[0m | \u001b[0m 6.014   \u001b[0m | \u001b[0m 4.475   \u001b[0m | \u001b[0m 0.1237  \u001b[0m | \u001b[0m 1.985   \u001b[0m | \u001b[0m-2.976   \u001b[0m | \u001b[0m-0.2363  \u001b[0m |\n"
     ]
    },
    {
     "name": "stderr",
     "output_type": "stream",
     "text": [
      "100%|██████████| 946/946 [00:04<00:00, 209.69it/s]\n"
     ]
    },
    {
     "name": "stdout",
     "output_type": "stream",
     "text": [
      "0.08918655215430508 -0.016136245094607145 nan\n",
      "| \u001b[0m 6       \u001b[0m | \u001b[0m 0.05481 \u001b[0m | \u001b[0m 9.648   \u001b[0m | \u001b[0m 8.877   \u001b[0m | \u001b[0m 6.228   \u001b[0m | \u001b[0m 8.55    \u001b[0m | \u001b[0m-0.607   \u001b[0m | \u001b[0m-0.9138  \u001b[0m | \u001b[0m-0.03679 \u001b[0m |\n"
     ]
    },
    {
     "name": "stderr",
     "output_type": "stream",
     "text": [
      "100%|██████████| 872/872 [00:04<00:00, 210.43it/s]\n"
     ]
    },
    {
     "name": "stdout",
     "output_type": "stream",
     "text": [
      "0.11820056016117915 -0.12550622468595996 nan\n",
      "| \u001b[0m 7       \u001b[0m | \u001b[0m 0.07618 \u001b[0m | \u001b[0m 5.854   \u001b[0m | \u001b[0m 9.792   \u001b[0m | \u001b[0m 5.383   \u001b[0m | \u001b[0m 10.0    \u001b[0m | \u001b[0m-2.486   \u001b[0m | \u001b[0m 3.754   \u001b[0m | \u001b[0m 3.14    \u001b[0m |\n"
     ]
    },
    {
     "name": "stderr",
     "output_type": "stream",
     "text": [
      "100%|██████████| 852/852 [00:03<00:00, 215.34it/s]\n"
     ]
    },
    {
     "name": "stdout",
     "output_type": "stream",
     "text": [
      "0.45006170054249134 -0.1281510895284897 nan\n",
      "| \u001b[95m 8       \u001b[0m | \u001b[95m 0.2938  \u001b[0m | \u001b[95m 10.0    \u001b[0m | \u001b[95m 10.0    \u001b[0m | \u001b[95m 0.1     \u001b[0m | \u001b[95m 10.0    \u001b[0m | \u001b[95m-4.532   \u001b[0m | \u001b[95m 0.6385  \u001b[0m | \u001b[95m 5.0     \u001b[0m |\n"
     ]
    },
    {
     "name": "stderr",
     "output_type": "stream",
     "text": [
      "100%|██████████| 857/857 [00:03<00:00, 215.87it/s]\n"
     ]
    },
    {
     "name": "stdout",
     "output_type": "stream",
     "text": [
      "0.04113496435569013 -0.00024085948678571033 nan\n",
      "| \u001b[0m 9       \u001b[0m | \u001b[0m 0.02676 \u001b[0m | \u001b[0m 10.0    \u001b[0m | \u001b[0m 10.0    \u001b[0m | \u001b[0m 0.1     \u001b[0m | \u001b[0m 10.0    \u001b[0m | \u001b[0m-5.0     \u001b[0m | \u001b[0m-4.189   \u001b[0m | \u001b[0m 5.0     \u001b[0m |\n"
     ]
    },
    {
     "name": "stderr",
     "output_type": "stream",
     "text": [
      "100%|██████████| 1642/1642 [00:07<00:00, 205.29it/s]\n"
     ]
    },
    {
     "name": "stdout",
     "output_type": "stream",
     "text": [
      "0.12383003284239939 -0.11389579117578982 nan\n",
      "| \u001b[0m 10      \u001b[0m | \u001b[0m 0.04086 \u001b[0m | \u001b[0m 6.858   \u001b[0m | \u001b[0m 3.786   \u001b[0m | \u001b[0m 3.867   \u001b[0m | \u001b[0m 6.159   \u001b[0m | \u001b[0m 1.001   \u001b[0m | \u001b[0m 0.09915 \u001b[0m | \u001b[0m 4.743   \u001b[0m |\n"
     ]
    },
    {
     "name": "stderr",
     "output_type": "stream",
     "text": [
      "100%|██████████| 1845/1845 [00:09<00:00, 203.80it/s]\n"
     ]
    },
    {
     "name": "stdout",
     "output_type": "stream",
     "text": [
      "0.029852642291169337 -0.104583852807271 nan\n",
      "| \u001b[0m 11      \u001b[0m | \u001b[0m 0.007375\u001b[0m | \u001b[0m 7.711   \u001b[0m | \u001b[0m 2.894   \u001b[0m | \u001b[0m 7.786   \u001b[0m | \u001b[0m 3.811   \u001b[0m | \u001b[0m 0.428   \u001b[0m | \u001b[0m-1.51    \u001b[0m | \u001b[0m 4.156   \u001b[0m |\n"
     ]
    },
    {
     "name": "stderr",
     "output_type": "stream",
     "text": [
      "100%|██████████| 856/856 [00:03<00:00, 215.62it/s]\n"
     ]
    },
    {
     "name": "stdout",
     "output_type": "stream",
     "text": [
      "0.14505956887839572 -0.02485347291430783 nan\n",
      "| \u001b[0m 12      \u001b[0m | \u001b[0m 0.09443 \u001b[0m | \u001b[0m 10.0    \u001b[0m | \u001b[0m 10.0    \u001b[0m | \u001b[0m 0.1     \u001b[0m | \u001b[0m 9.961   \u001b[0m | \u001b[0m-4.181   \u001b[0m | \u001b[0m 3.079   \u001b[0m | \u001b[0m 5.0     \u001b[0m |\n"
     ]
    },
    {
     "name": "stderr",
     "output_type": "stream",
     "text": [
      "100%|██████████| 851/851 [00:03<00:00, 215.69it/s]\n"
     ]
    },
    {
     "name": "stdout",
     "output_type": "stream",
     "text": [
      "0.4141042118820743 -0.11068089759448389 nan\n",
      "| \u001b[0m 13      \u001b[0m | \u001b[0m 0.2705  \u001b[0m | \u001b[0m 9.793   \u001b[0m | \u001b[0m 9.94    \u001b[0m | \u001b[0m 0.7703  \u001b[0m | \u001b[0m 9.707   \u001b[0m | \u001b[0m-3.897   \u001b[0m | \u001b[0m 0.2639  \u001b[0m | \u001b[0m 4.858   \u001b[0m |\n"
     ]
    },
    {
     "name": "stderr",
     "output_type": "stream",
     "text": [
      "100%|██████████| 854/854 [00:04<00:00, 210.47it/s]\n"
     ]
    },
    {
     "name": "stdout",
     "output_type": "stream",
     "text": [
      "0.6094551646753319 -0.187011471837896 nan\n",
      "| \u001b[95m 14      \u001b[0m | \u001b[95m 0.3973  \u001b[0m | \u001b[95m 10.0    \u001b[0m | \u001b[95m 10.0    \u001b[0m | \u001b[95m 0.1     \u001b[0m | \u001b[95m 10.0    \u001b[0m | \u001b[95m-5.0     \u001b[0m | \u001b[95m 0.07054 \u001b[0m | \u001b[95m 3.267   \u001b[0m |\n"
     ]
    },
    {
     "name": "stderr",
     "output_type": "stream",
     "text": [
      "100%|██████████| 1030/1030 [00:04<00:00, 213.93it/s]\n"
     ]
    },
    {
     "name": "stdout",
     "output_type": "stream",
     "text": [
      "0.6242583747547961 -0.19213636064792947 nan\n",
      "| \u001b[0m 15      \u001b[0m | \u001b[0m 0.3618  \u001b[0m | \u001b[0m 10.0    \u001b[0m | \u001b[0m 7.931   \u001b[0m | \u001b[0m 0.1     \u001b[0m | \u001b[0m 10.0    \u001b[0m | \u001b[0m-5.0     \u001b[0m | \u001b[0m 0.09484 \u001b[0m | \u001b[0m 2.549   \u001b[0m |\n"
     ]
    },
    {
     "name": "stderr",
     "output_type": "stream",
     "text": [
      "100%|██████████| 856/856 [00:04<00:00, 211.84it/s]\n"
     ]
    },
    {
     "name": "stdout",
     "output_type": "stream",
     "text": [
      "0.6206605520695471 -0.1785260064904409 nan\n",
      "| \u001b[95m 16      \u001b[0m | \u001b[95m 0.4039  \u001b[0m | \u001b[95m 10.0    \u001b[0m | \u001b[95m 10.0    \u001b[0m | \u001b[95m 0.1     \u001b[0m | \u001b[95m 10.0    \u001b[0m | \u001b[95m-5.0     \u001b[0m | \u001b[95m 0.135   \u001b[0m | \u001b[95m-0.07268 \u001b[0m |\n"
     ]
    },
    {
     "name": "stderr",
     "output_type": "stream",
     "text": [
      "100%|██████████| 850/850 [00:03<00:00, 213.58it/s]\n"
     ]
    },
    {
     "name": "stdout",
     "output_type": "stream",
     "text": [
      "0.5703908351255776 -0.2143882471436944 nan\n",
      "| \u001b[0m 17      \u001b[0m | \u001b[0m 0.3726  \u001b[0m | \u001b[0m 6.59    \u001b[0m | \u001b[0m 10.0    \u001b[0m | \u001b[0m 0.1     \u001b[0m | \u001b[0m 10.0    \u001b[0m | \u001b[0m-5.0     \u001b[0m | \u001b[0m-0.1037  \u001b[0m | \u001b[0m 0.8837  \u001b[0m |\n"
     ]
    },
    {
     "name": "stderr",
     "output_type": "stream",
     "text": [
      "100%|██████████| 855/855 [00:03<00:00, 215.72it/s]\n"
     ]
    },
    {
     "name": "stdout",
     "output_type": "stream",
     "text": [
      "0.5164577518318725 -0.12318474311669762 nan\n",
      "| \u001b[0m 18      \u001b[0m | \u001b[0m 0.3363  \u001b[0m | \u001b[0m 6.873   \u001b[0m | \u001b[0m 10.0    \u001b[0m | \u001b[0m 0.1     \u001b[0m | \u001b[0m 10.0    \u001b[0m | \u001b[0m-5.0     \u001b[0m | \u001b[0m 0.6462  \u001b[0m | \u001b[0m-4.661   \u001b[0m |\n"
     ]
    },
    {
     "name": "stderr",
     "output_type": "stream",
     "text": [
      "100%|██████████| 1434/1434 [00:06<00:00, 210.49it/s]\n"
     ]
    },
    {
     "name": "stdout",
     "output_type": "stream",
     "text": [
      "0.5536128691504199 -0.21609022542781472 nan\n",
      "| \u001b[0m 19      \u001b[0m | \u001b[0m 0.2294  \u001b[0m | \u001b[0m 8.352   \u001b[0m | \u001b[0m 4.86    \u001b[0m | \u001b[0m 0.1     \u001b[0m | \u001b[0m 10.0    \u001b[0m | \u001b[0m-5.0     \u001b[0m | \u001b[0m 7.263e-0\u001b[0m | \u001b[0m-3.556   \u001b[0m |\n"
     ]
    },
    {
     "name": "stderr",
     "output_type": "stream",
     "text": [
      "100%|██████████| 859/859 [00:03<00:00, 215.07it/s]\n"
     ]
    },
    {
     "name": "stdout",
     "output_type": "stream",
     "text": [
      "0.19451080770322754 -0.07746549012850215 nan\n",
      "| \u001b[0m 20      \u001b[0m | \u001b[0m 0.1265  \u001b[0m | \u001b[0m 1.07    \u001b[0m | \u001b[0m 10.0    \u001b[0m | \u001b[0m 0.1     \u001b[0m | \u001b[0m 10.0    \u001b[0m | \u001b[0m-5.0     \u001b[0m | \u001b[0m-1.179   \u001b[0m | \u001b[0m-3.775   \u001b[0m |\n"
     ]
    },
    {
     "name": "stderr",
     "output_type": "stream",
     "text": [
      "100%|██████████| 857/857 [00:04<00:00, 210.46it/s]\n"
     ]
    },
    {
     "name": "stdout",
     "output_type": "stream",
     "text": [
      "0.05173710795737108 -0.009175316063656158 nan\n",
      "| \u001b[0m 21      \u001b[0m | \u001b[0m 0.03366 \u001b[0m | \u001b[0m 10.0    \u001b[0m | \u001b[0m 10.0    \u001b[0m | \u001b[0m 0.1     \u001b[0m | \u001b[0m 10.0    \u001b[0m | \u001b[0m-5.0     \u001b[0m | \u001b[0m-3.374   \u001b[0m | \u001b[0m-5.0     \u001b[0m |\n"
     ]
    },
    {
     "name": "stderr",
     "output_type": "stream",
     "text": [
      "100%|██████████| 853/853 [00:04<00:00, 211.48it/s]\n"
     ]
    },
    {
     "name": "stdout",
     "output_type": "stream",
     "text": [
      "0.10628350645900203 -0.024070601355092897 nan\n",
      "| \u001b[0m 22      \u001b[0m | \u001b[0m 0.0693  \u001b[0m | \u001b[0m 7.947   \u001b[0m | \u001b[0m 10.0    \u001b[0m | \u001b[0m 0.1     \u001b[0m | \u001b[0m 10.0    \u001b[0m | \u001b[0m-5.0     \u001b[0m | \u001b[0m 3.828   \u001b[0m | \u001b[0m-2.154   \u001b[0m |\n"
     ]
    },
    {
     "name": "stderr",
     "output_type": "stream",
     "text": [
      "100%|██████████| 855/855 [00:04<00:00, 211.11it/s]\n"
     ]
    },
    {
     "name": "stdout",
     "output_type": "stream",
     "text": [
      "0.5656208039588907 -0.19316772313515057 nan\n",
      "| \u001b[0m 23      \u001b[0m | \u001b[0m 0.3683  \u001b[0m | \u001b[0m 8.972   \u001b[0m | \u001b[0m 10.0    \u001b[0m | \u001b[0m 0.1     \u001b[0m | \u001b[0m 7.329   \u001b[0m | \u001b[0m-5.0     \u001b[0m | \u001b[0m-0.4938  \u001b[0m | \u001b[0m 1.031   \u001b[0m |\n"
     ]
    },
    {
     "name": "stderr",
     "output_type": "stream",
     "text": [
      "100%|██████████| 1009/1009 [00:04<00:00, 212.43it/s]\n"
     ]
    },
    {
     "name": "stdout",
     "output_type": "stream",
     "text": [
      "0.1306455387575753 -0.031422141677769834 nan\n",
      "| \u001b[0m 24      \u001b[0m | \u001b[0m 0.07686 \u001b[0m | \u001b[0m 8.005   \u001b[0m | \u001b[0m 8.214   \u001b[0m | \u001b[0m 0.1     \u001b[0m | \u001b[0m 10.0    \u001b[0m | \u001b[0m-5.0     \u001b[0m | \u001b[0m-1.749   \u001b[0m | \u001b[0m-0.1014  \u001b[0m |\n"
     ]
    },
    {
     "name": "stderr",
     "output_type": "stream",
     "text": [
      "100%|██████████| 856/856 [00:03<00:00, 217.32it/s]\n"
     ]
    },
    {
     "name": "stdout",
     "output_type": "stream",
     "text": [
      "0.2798918827214618 -0.03924652556875218 nan\n",
      "| \u001b[0m 25      \u001b[0m | \u001b[0m 0.1822  \u001b[0m | \u001b[0m 8.625   \u001b[0m | \u001b[0m 10.0    \u001b[0m | \u001b[0m 0.1     \u001b[0m | \u001b[0m 9.089   \u001b[0m | \u001b[0m-5.0     \u001b[0m | \u001b[0m 1.245   \u001b[0m | \u001b[0m 1.648   \u001b[0m |\n"
     ]
    },
    {
     "name": "stderr",
     "output_type": "stream",
     "text": [
      "100%|██████████| 853/853 [00:03<00:00, 217.10it/s]\n"
     ]
    },
    {
     "name": "stdout",
     "output_type": "stream",
     "text": [
      "0.254109564224972 -0.0698599652080237 nan\n",
      "| \u001b[0m 26      \u001b[0m | \u001b[0m 0.1657  \u001b[0m | \u001b[0m 10.0    \u001b[0m | \u001b[0m 10.0    \u001b[0m | \u001b[0m 0.1     \u001b[0m | \u001b[0m 9.284   \u001b[0m | \u001b[0m-5.0     \u001b[0m | \u001b[0m-1.097   \u001b[0m | \u001b[0m 1.531   \u001b[0m |\n"
     ]
    },
    {
     "name": "stderr",
     "output_type": "stream",
     "text": [
      "100%|██████████| 853/853 [00:03<00:00, 216.69it/s]\n"
     ]
    },
    {
     "name": "stdout",
     "output_type": "stream",
     "text": [
      "0.6942627963744485 -0.17848105657180227 nan\n",
      "| \u001b[95m 27      \u001b[0m | \u001b[95m 0.4529  \u001b[0m | \u001b[95m 9.286   \u001b[0m | \u001b[95m 10.0    \u001b[0m | \u001b[95m 0.1     \u001b[0m | \u001b[95m 8.553   \u001b[0m | \u001b[95m-5.0     \u001b[0m | \u001b[95m 0.1372  \u001b[0m | \u001b[95m-0.5607  \u001b[0m |\n"
     ]
    },
    {
     "name": "stderr",
     "output_type": "stream",
     "text": [
      "100%|██████████| 857/857 [00:03<00:00, 217.09it/s]\n"
     ]
    },
    {
     "name": "stdout",
     "output_type": "stream",
     "text": [
      "0.6286080572833165 -0.14013310807426876 nan\n",
      "| \u001b[0m 28      \u001b[0m | \u001b[0m 0.4091  \u001b[0m | \u001b[0m 8.397   \u001b[0m | \u001b[0m 10.0    \u001b[0m | \u001b[0m 0.1     \u001b[0m | \u001b[0m 9.752   \u001b[0m | \u001b[0m-5.0     \u001b[0m | \u001b[0m 0.3324  \u001b[0m | \u001b[0m-1.171   \u001b[0m |\n"
     ]
    },
    {
     "name": "stderr",
     "output_type": "stream",
     "text": [
      "100%|██████████| 846/846 [00:03<00:00, 213.82it/s]\n"
     ]
    },
    {
     "name": "stdout",
     "output_type": "stream",
     "text": [
      "0.716802116273646 -0.21235801624725784 nan\n",
      "| \u001b[95m 29      \u001b[0m | \u001b[95m 0.4696  \u001b[0m | \u001b[95m 7.536   \u001b[0m | \u001b[95m 10.0    \u001b[0m | \u001b[95m 0.1     \u001b[0m | \u001b[95m 7.643   \u001b[0m | \u001b[95m-5.0     \u001b[0m | \u001b[95m-0.05857 \u001b[0m | \u001b[95m-0.8103  \u001b[0m |\n"
     ]
    },
    {
     "name": "stderr",
     "output_type": "stream",
     "text": [
      "100%|██████████| 856/856 [00:04<00:00, 212.31it/s]\n"
     ]
    },
    {
     "name": "stdout",
     "output_type": "stream",
     "text": [
      "0.808212205580624 -0.17926759673432796 nan\n",
      "| \u001b[95m 30      \u001b[0m | \u001b[95m 0.5263  \u001b[0m | \u001b[95m 9.098   \u001b[0m | \u001b[95m 10.0    \u001b[0m | \u001b[95m 0.1     \u001b[0m | \u001b[95m 6.366   \u001b[0m | \u001b[95m-5.0     \u001b[0m | \u001b[95m 0.04289 \u001b[0m | \u001b[95m-1.402   \u001b[0m |\n"
     ]
    },
    {
     "name": "stderr",
     "output_type": "stream",
     "text": [
      "100%|██████████| 1013/1013 [00:04<00:00, 210.41it/s]\n"
     ]
    },
    {
     "name": "stdout",
     "output_type": "stream",
     "text": [
      "0.7938988346401952 -0.12381175087674703 nan\n",
      "| \u001b[0m 31      \u001b[0m | \u001b[0m 0.4659  \u001b[0m | \u001b[0m 8.822   \u001b[0m | \u001b[0m 8.151   \u001b[0m | \u001b[0m 0.1     \u001b[0m | \u001b[0m 6.035   \u001b[0m | \u001b[0m-5.0     \u001b[0m | \u001b[0m 0.574   \u001b[0m | \u001b[0m-0.8893  \u001b[0m |\n"
     ]
    },
    {
     "name": "stderr",
     "output_type": "stream",
     "text": [
      "100%|██████████| 859/859 [00:04<00:00, 209.37it/s]\n"
     ]
    },
    {
     "name": "stdout",
     "output_type": "stream",
     "text": [
      "0.9141989561212756 -0.14259800179845197 nan\n",
      "| \u001b[95m 32      \u001b[0m | \u001b[95m 0.5941  \u001b[0m | \u001b[95m 7.703   \u001b[0m | \u001b[95m 10.0    \u001b[0m | \u001b[95m 0.1     \u001b[0m | \u001b[95m 4.542   \u001b[0m | \u001b[95m-5.0     \u001b[0m | \u001b[95m-0.3439  \u001b[0m | \u001b[95m-0.4701  \u001b[0m |\n"
     ]
    },
    {
     "name": "stderr",
     "output_type": "stream",
     "text": [
      "100%|██████████| 870/870 [00:04<00:00, 212.66it/s]\n"
     ]
    },
    {
     "name": "stdout",
     "output_type": "stream",
     "text": [
      "0.6310099583474025 -0.18427782230916692 nan\n",
      "| \u001b[0m 33      \u001b[0m | \u001b[0m 0.4072  \u001b[0m | \u001b[0m 7.336   \u001b[0m | \u001b[0m 9.797   \u001b[0m | \u001b[0m 0.9883  \u001b[0m | \u001b[0m 4.197   \u001b[0m | \u001b[0m-4.459   \u001b[0m | \u001b[0m 2.21    \u001b[0m | \u001b[0m-2.658   \u001b[0m |\n"
     ]
    },
    {
     "name": "stderr",
     "output_type": "stream",
     "text": [
      "100%|██████████| 855/855 [00:03<00:00, 216.59it/s]\n"
     ]
    },
    {
     "name": "stdout",
     "output_type": "stream",
     "text": [
      "0.9909763627177636 0.04049731181756989 nan\n",
      "| \u001b[95m 34      \u001b[0m | \u001b[95m 0.6189  \u001b[0m | \u001b[95m 9.684   \u001b[0m | \u001b[95m 10.0    \u001b[0m | \u001b[95m 0.1     \u001b[0m | \u001b[95m 3.239   \u001b[0m | \u001b[95m-5.0     \u001b[0m | \u001b[95m 0.3884  \u001b[0m | \u001b[95m-0.3261  \u001b[0m |\n"
     ]
    },
    {
     "name": "stderr",
     "output_type": "stream",
     "text": [
      "100%|██████████| 857/857 [00:03<00:00, 217.00it/s]\n"
     ]
    },
    {
     "name": "stdout",
     "output_type": "stream",
     "text": [
      "0.9217617249150165 -0.031138324178952983 nan\n",
      "| \u001b[0m 35      \u001b[0m | \u001b[0m 0.6001  \u001b[0m | \u001b[0m 8.977   \u001b[0m | \u001b[0m 10.0    \u001b[0m | \u001b[0m 0.1     \u001b[0m | \u001b[0m 2.545   \u001b[0m | \u001b[0m-5.0     \u001b[0m | \u001b[0m-1.312   \u001b[0m | \u001b[0m-2.021   \u001b[0m |\n"
     ]
    },
    {
     "name": "stderr",
     "output_type": "stream",
     "text": [
      "100%|██████████| 857/857 [00:04<00:00, 212.88it/s]\n"
     ]
    },
    {
     "name": "stdout",
     "output_type": "stream",
     "text": [
      "0.9958630275106303 0.007368169925466956 nan\n",
      "| \u001b[95m 36      \u001b[0m | \u001b[95m 0.6429  \u001b[0m | \u001b[95m 8.491   \u001b[0m | \u001b[95m 10.0    \u001b[0m | \u001b[95m 0.1     \u001b[0m | \u001b[95m 1.59    \u001b[0m | \u001b[95m-5.0     \u001b[0m | \u001b[95m-1.491   \u001b[0m | \u001b[95m 0.8254  \u001b[0m |\n"
     ]
    },
    {
     "name": "stderr",
     "output_type": "stream",
     "text": [
      "100%|██████████| 851/851 [00:03<00:00, 213.75it/s]\n"
     ]
    },
    {
     "name": "stdout",
     "output_type": "stream",
     "text": [
      "0.9966370358103704 0.07209073780890739 0.0953257615732576\n",
      "| \u001b[0m 37      \u001b[0m | \u001b[0m 0.5883  \u001b[0m | \u001b[0m 7.746   \u001b[0m | \u001b[0m 10.0    \u001b[0m | \u001b[0m 0.1     \u001b[0m | \u001b[0m 0.3571  \u001b[0m | \u001b[0m-5.0     \u001b[0m | \u001b[0m 0.574   \u001b[0m | \u001b[0m-0.6483  \u001b[0m |\n"
     ]
    },
    {
     "name": "stderr",
     "output_type": "stream",
     "text": [
      "100%|██████████| 852/852 [00:04<00:00, 200.67it/s]\n"
     ]
    },
    {
     "name": "stdout",
     "output_type": "stream",
     "text": [
      "0.24060626557806264 0.09914280402742803 0.26355546385955464\n",
      "| \u001b[0m 38      \u001b[0m | \u001b[0m-0.01498 \u001b[0m | \u001b[0m 9.009   \u001b[0m | \u001b[0m 10.0    \u001b[0m | \u001b[0m 2.777   \u001b[0m | \u001b[0m 1.722   \u001b[0m | \u001b[0m-5.0     \u001b[0m | \u001b[0m-0.73    \u001b[0m | \u001b[0m-0.2392  \u001b[0m |\n"
     ]
    },
    {
     "name": "stderr",
     "output_type": "stream",
     "text": [
      "100%|██████████| 979/979 [00:04<00:00, 197.64it/s]\n"
     ]
    },
    {
     "name": "stdout",
     "output_type": "stream",
     "text": [
      "0.9763012271470122 0.08250391204503911 0.14355546361955465\n",
      "| \u001b[0m 39      \u001b[0m | \u001b[0m 0.5003  \u001b[0m | \u001b[0m 5.639   \u001b[0m | \u001b[0m 8.5     \u001b[0m | \u001b[0m 0.2601  \u001b[0m | \u001b[0m 1.792   \u001b[0m | \u001b[0m-3.744   \u001b[0m | \u001b[0m-0.96    \u001b[0m | \u001b[0m 1.125   \u001b[0m |\n"
     ]
    },
    {
     "name": "stderr",
     "output_type": "stream",
     "text": [
      "100%|██████████| 1060/1060 [00:05<00:00, 206.00it/s]\n"
     ]
    },
    {
     "name": "stdout",
     "output_type": "stream",
     "text": [
      "0.9932907901529079 0.05607157268071573 0.09513589903535898\n",
      "| \u001b[0m 40      \u001b[0m | \u001b[0m 0.5099  \u001b[0m | \u001b[0m 8.217   \u001b[0m | \u001b[0m 7.612   \u001b[0m | \u001b[0m 0.1     \u001b[0m | \u001b[0m 1.99    \u001b[0m | \u001b[0m-5.0     \u001b[0m | \u001b[0m-0.5553  \u001b[0m | \u001b[0m-0.4165  \u001b[0m |\n"
     ]
    },
    {
     "name": "stderr",
     "output_type": "stream",
     "text": [
      "100%|██████████| 854/854 [00:04<00:00, 211.94it/s]\n"
     ]
    },
    {
     "name": "stdout",
     "output_type": "stream",
     "text": [
      "0.9847009983161646 -0.007971024002146108 nan\n",
      "| \u001b[0m 41      \u001b[0m | \u001b[0m 0.642   \u001b[0m | \u001b[0m 6.007   \u001b[0m | \u001b[0m 10.0    \u001b[0m | \u001b[0m 0.1     \u001b[0m | \u001b[0m 1.13    \u001b[0m | \u001b[0m-5.0     \u001b[0m | \u001b[0m-2.483   \u001b[0m | \u001b[0m-1.021   \u001b[0m |\n"
     ]
    },
    {
     "name": "stderr",
     "output_type": "stream",
     "text": [
      "100%|██████████| 868/868 [00:04<00:00, 215.61it/s]\n"
     ]
    },
    {
     "name": "stdout",
     "output_type": "stream",
     "text": [
      "0.9143228829952288 0.21797982591179826 0.2878473482744735\n",
      "| \u001b[0m 42      \u001b[0m | \u001b[0m 0.4046  \u001b[0m | \u001b[0m 5.951   \u001b[0m | \u001b[0m 9.903   \u001b[0m | \u001b[0m 0.4232  \u001b[0m | \u001b[0m 1.699   \u001b[0m | \u001b[0m-3.157   \u001b[0m | \u001b[0m-0.7757  \u001b[0m | \u001b[0m-2.611   \u001b[0m |\n"
     ]
    },
    {
     "name": "stderr",
     "output_type": "stream",
     "text": [
      "100%|██████████| 856/856 [00:04<00:00, 195.43it/s]\n"
     ]
    },
    {
     "name": "stdout",
     "output_type": "stream",
     "text": [
      "0.048190350517903505 0.009939703633902543 nan\n",
      "| \u001b[0m 43      \u001b[0m | \u001b[0m 0.0249  \u001b[0m | \u001b[0m 6.286   \u001b[0m | \u001b[0m 10.0    \u001b[0m | \u001b[0m 0.1     \u001b[0m | \u001b[0m 0.1     \u001b[0m | \u001b[0m-5.0     \u001b[0m | \u001b[0m-3.894   \u001b[0m | \u001b[0m 1.88    \u001b[0m |\n"
     ]
    },
    {
     "name": "stderr",
     "output_type": "stream",
     "text": [
      "100%|██████████| 1143/1143 [00:05<00:00, 205.56it/s]\n"
     ]
    },
    {
     "name": "stdout",
     "output_type": "stream",
     "text": [
      "0.9396160712576999 -0.09955287900321845 nan\n",
      "| \u001b[0m 44      \u001b[0m | \u001b[0m 0.502   \u001b[0m | \u001b[0m 4.515   \u001b[0m | \u001b[0m 6.892   \u001b[0m | \u001b[0m 0.3709  \u001b[0m | \u001b[0m 2.181   \u001b[0m | \u001b[0m-4.941   \u001b[0m | \u001b[0m 1.639   \u001b[0m | \u001b[0m 1.161   \u001b[0m |\n"
     ]
    },
    {
     "name": "stderr",
     "output_type": "stream",
     "text": [
      "100%|██████████| 856/856 [00:03<00:00, 215.03it/s]\n"
     ]
    },
    {
     "name": "stdout",
     "output_type": "stream",
     "text": [
      "0.9903331899513319 0.10291736583317365 0.13224530329445303\n",
      "| \u001b[0m 45      \u001b[0m | \u001b[0m 0.5583  \u001b[0m | \u001b[0m 5.436   \u001b[0m | \u001b[0m 10.0    \u001b[0m | \u001b[0m 0.1     \u001b[0m | \u001b[0m 2.184   \u001b[0m | \u001b[0m-5.0     \u001b[0m | \u001b[0m 0.1002  \u001b[0m | \u001b[0m-0.189   \u001b[0m |\n"
     ]
    },
    {
     "name": "stderr",
     "output_type": "stream",
     "text": [
      "100%|██████████| 862/862 [00:03<00:00, 216.66it/s]\n"
     ]
    },
    {
     "name": "stdout",
     "output_type": "stream",
     "text": [
      "0.9493903411264403 -0.02227597835319015 nan\n",
      "| \u001b[0m 46      \u001b[0m | \u001b[0m 0.6158  \u001b[0m | \u001b[0m 7.942   \u001b[0m | \u001b[0m 9.896   \u001b[0m | \u001b[0m 0.1     \u001b[0m | \u001b[0m 2.213   \u001b[0m | \u001b[0m-5.0     \u001b[0m | \u001b[0m 1.361   \u001b[0m | \u001b[0m 2.3     \u001b[0m |\n"
     ]
    },
    {
     "name": "stderr",
     "output_type": "stream",
     "text": [
      "100%|██████████| 860/860 [00:03<00:00, 220.35it/s]\n"
     ]
    },
    {
     "name": "stdout",
     "output_type": "stream",
     "text": [
      "0.26051545515564095 -0.04178796633891947 nan\n",
      "| \u001b[0m 47      \u001b[0m | \u001b[0m 0.1691  \u001b[0m | \u001b[0m 6.228   \u001b[0m | \u001b[0m 10.0    \u001b[0m | \u001b[0m 0.1     \u001b[0m | \u001b[0m 3.28    \u001b[0m | \u001b[0m-5.0     \u001b[0m | \u001b[0m-3.716   \u001b[0m | \u001b[0m-2.549   \u001b[0m |\n"
     ]
    },
    {
     "name": "stderr",
     "output_type": "stream",
     "text": [
      "100%|██████████| 945/945 [00:04<00:00, 218.84it/s]\n"
     ]
    },
    {
     "name": "stdout",
     "output_type": "stream",
     "text": [
      "0.9126335000327641 -0.01050368702348586 nan\n",
      "| \u001b[0m 48      \u001b[0m | \u001b[0m 0.561   \u001b[0m | \u001b[0m 6.828   \u001b[0m | \u001b[0m 8.875   \u001b[0m | \u001b[0m 0.1     \u001b[0m | \u001b[0m 0.9245  \u001b[0m | \u001b[0m-5.0     \u001b[0m | \u001b[0m 4.047   \u001b[0m | \u001b[0m 1.344   \u001b[0m |\n"
     ]
    },
    {
     "name": "stderr",
     "output_type": "stream",
     "text": [
      "100%|██████████| 859/859 [00:03<00:00, 219.45it/s]\n"
     ]
    },
    {
     "name": "stdout",
     "output_type": "stream",
     "text": [
      "0.9867221416232215 0.014298287868772606 nan\n",
      "| \u001b[0m 49      \u001b[0m | \u001b[0m 0.6318  \u001b[0m | \u001b[0m 4.857   \u001b[0m | \u001b[0m 10.0    \u001b[0m | \u001b[0m 0.1     \u001b[0m | \u001b[0m 0.8841  \u001b[0m | \u001b[0m-5.0     \u001b[0m | \u001b[0m 2.761   \u001b[0m | \u001b[0m 3.651   \u001b[0m |\n"
     ]
    },
    {
     "name": "stderr",
     "output_type": "stream",
     "text": [
      "100%|██████████| 1055/1055 [00:04<00:00, 216.98it/s]\n"
     ]
    },
    {
     "name": "stdout",
     "output_type": "stream",
     "text": [
      "0.999153609559536 0.016482401456824017 nan\n",
      "| \u001b[0m 50      \u001b[0m | \u001b[0m 0.5597  \u001b[0m | \u001b[0m 6.72    \u001b[0m | \u001b[0m 7.64    \u001b[0m | \u001b[0m 0.1     \u001b[0m | \u001b[0m 0.4199  \u001b[0m | \u001b[0m-5.0     \u001b[0m | \u001b[0m 2.879   \u001b[0m | \u001b[0m 4.718   \u001b[0m |\n"
     ]
    },
    {
     "name": "stderr",
     "output_type": "stream",
     "text": [
      "100%|██████████| 1027/1027 [00:05<00:00, 203.50it/s]\n"
     ]
    },
    {
     "name": "stdout",
     "output_type": "stream",
     "text": [
      "0.9996134093401342 0.005522844607228445 nan\n",
      "| \u001b[0m 51      \u001b[0m | \u001b[0m 0.5778  \u001b[0m | \u001b[0m 3.327   \u001b[0m | \u001b[0m 7.921   \u001b[0m | \u001b[0m 0.1     \u001b[0m | \u001b[0m 0.1     \u001b[0m | \u001b[0m-5.0     \u001b[0m | \u001b[0m 5.0     \u001b[0m | \u001b[0m 3.639   \u001b[0m |\n"
     ]
    },
    {
     "name": "stderr",
     "output_type": "stream",
     "text": [
      "100%|██████████| 923/923 [00:04<00:00, 213.00it/s]\n"
     ]
    },
    {
     "name": "stdout",
     "output_type": "stream",
     "text": [
      "0.3457271973089855 -0.017203560003843234 nan\n",
      "| \u001b[0m 52      \u001b[0m | \u001b[0m 0.2155  \u001b[0m | \u001b[0m 5.139   \u001b[0m | \u001b[0m 9.121   \u001b[0m | \u001b[0m 0.1     \u001b[0m | \u001b[0m 2.886   \u001b[0m | \u001b[0m-5.0     \u001b[0m | \u001b[0m 5.0     \u001b[0m | \u001b[0m 4.651   \u001b[0m |\n"
     ]
    },
    {
     "name": "stderr",
     "output_type": "stream",
     "text": [
      "100%|██████████| 883/883 [00:04<00:00, 211.65it/s]\n"
     ]
    },
    {
     "name": "stdout",
     "output_type": "stream",
     "text": [
      "0.9990463322584633 0.014136649869366498 0.0265380598813806\n",
      "| \u001b[0m 53      \u001b[0m | \u001b[0m 0.6222  \u001b[0m | \u001b[0m 2.786   \u001b[0m | \u001b[0m 9.577   \u001b[0m | \u001b[0m 0.1     \u001b[0m | \u001b[0m 0.1     \u001b[0m | \u001b[0m-5.0     \u001b[0m | \u001b[0m 2.892   \u001b[0m | \u001b[0m 1.272   \u001b[0m |\n"
     ]
    },
    {
     "name": "stderr",
     "output_type": "stream",
     "text": [
      "100%|██████████| 1035/1035 [00:04<00:00, 212.89it/s]\n"
     ]
    },
    {
     "name": "stdout",
     "output_type": "stream",
     "text": [
      "0.9979782937517829 0.018273753506737534 nan\n",
      "| \u001b[0m 54      \u001b[0m | \u001b[0m 0.5663  \u001b[0m | \u001b[0m 2.491   \u001b[0m | \u001b[0m 7.928   \u001b[0m | \u001b[0m 0.1     \u001b[0m | \u001b[0m 0.1     \u001b[0m | \u001b[0m-5.0     \u001b[0m | \u001b[0m 1.576   \u001b[0m | \u001b[0m 4.126   \u001b[0m |\n"
     ]
    },
    {
     "name": "stderr",
     "output_type": "stream",
     "text": [
      "100%|██████████| 852/852 [00:04<00:00, 210.64it/s]\n"
     ]
    },
    {
     "name": "stdout",
     "output_type": "stream",
     "text": [
      "0.9995757288117573 0.007931638399316383 nan\n",
      "| \u001b[95m 55      \u001b[0m | \u001b[95m 0.6467  \u001b[0m | \u001b[95m 0.1     \u001b[0m | \u001b[95m 10.0    \u001b[0m | \u001b[95m 0.1     \u001b[0m | \u001b[95m 0.1     \u001b[0m | \u001b[95m-5.0     \u001b[0m | \u001b[95m 4.106   \u001b[0m | \u001b[95m 3.652   \u001b[0m |\n"
     ]
    },
    {
     "name": "stderr",
     "output_type": "stream",
     "text": [
      "100%|██████████| 1124/1124 [00:05<00:00, 215.26it/s]\n"
     ]
    },
    {
     "name": "stdout",
     "output_type": "stream",
     "text": [
      "0.9995918360519184 0.009623879412238795 nan\n",
      "| \u001b[0m 56      \u001b[0m | \u001b[0m 0.5361  \u001b[0m | \u001b[0m 0.1     \u001b[0m | \u001b[0m 7.044   \u001b[0m | \u001b[0m 0.1     \u001b[0m | \u001b[0m 0.1     \u001b[0m | \u001b[0m-5.0     \u001b[0m | \u001b[0m 4.645   \u001b[0m | \u001b[0m 1.405   \u001b[0m |\n"
     ]
    },
    {
     "name": "stderr",
     "output_type": "stream",
     "text": [
      "100%|██████████| 929/929 [00:04<00:00, 214.14it/s]\n"
     ]
    },
    {
     "name": "stdout",
     "output_type": "stream",
     "text": [
      "0.9891331353873314 0.037940967127409665 nan\n",
      "| \u001b[0m 57      \u001b[0m | \u001b[0m 0.5912  \u001b[0m | \u001b[0m 0.7232  \u001b[0m | \u001b[0m 9.086   \u001b[0m | \u001b[0m 0.2666  \u001b[0m | \u001b[0m 0.7815  \u001b[0m | \u001b[0m-2.206   \u001b[0m | \u001b[0m 2.557   \u001b[0m | \u001b[0m 4.245   \u001b[0m |\n"
     ]
    },
    {
     "name": "stderr",
     "output_type": "stream",
     "text": [
      "100%|██████████| 861/861 [00:04<00:00, 208.05it/s]\n"
     ]
    },
    {
     "name": "stdout",
     "output_type": "stream",
     "text": [
      "0.6921368689533687 0.607923499807235 0.7346290195942902\n",
      "| \u001b[0m 58      \u001b[0m | \u001b[0m-0.02758 \u001b[0m | \u001b[0m 0.3423  \u001b[0m | \u001b[0m 9.928   \u001b[0m | \u001b[0m 3.384   \u001b[0m | \u001b[0m 0.1792  \u001b[0m | \u001b[0m-4.982   \u001b[0m | \u001b[0m 1.799   \u001b[0m | \u001b[0m 2.778   \u001b[0m |\n"
     ]
    },
    {
     "name": "stderr",
     "output_type": "stream",
     "text": [
      "100%|██████████| 859/859 [00:04<00:00, 210.86it/s]\n"
     ]
    },
    {
     "name": "stdout",
     "output_type": "stream",
     "text": [
      "0.9996671350206713 0.0022762142987621426 nan\n",
      "| \u001b[95m 59      \u001b[0m | \u001b[95m 0.6484  \u001b[0m | \u001b[95m 1.774   \u001b[0m | \u001b[95m 10.0    \u001b[0m | \u001b[95m 0.1     \u001b[0m | \u001b[95m 0.1     \u001b[0m | \u001b[95m-2.331   \u001b[0m | \u001b[95m 5.0     \u001b[0m | \u001b[95m 2.419   \u001b[0m |\n"
     ]
    },
    {
     "name": "stderr",
     "output_type": "stream",
     "text": [
      "100%|██████████| 1058/1058 [00:04<00:00, 212.45it/s]\n"
     ]
    },
    {
     "name": "stdout",
     "output_type": "stream",
     "text": [
      "0.9994335781063358 0.006632874234328743 nan\n",
      "| \u001b[0m 60      \u001b[0m | \u001b[0m 0.5645  \u001b[0m | \u001b[0m 0.1     \u001b[0m | \u001b[0m 7.682   \u001b[0m | \u001b[0m 0.1     \u001b[0m | \u001b[0m 0.1     \u001b[0m | \u001b[0m-2.765   \u001b[0m | \u001b[0m 5.0     \u001b[0m | \u001b[0m 5.0     \u001b[0m |\n"
     ]
    },
    {
     "name": "stderr",
     "output_type": "stream",
     "text": [
      "100%|██████████| 859/859 [00:04<00:00, 213.78it/s]\n"
     ]
    },
    {
     "name": "stdout",
     "output_type": "stream",
     "text": [
      "0.9997162680371626 0.002273426374734264 nan\n",
      "| \u001b[95m 61      \u001b[0m | \u001b[95m 0.6484  \u001b[0m | \u001b[95m 0.1     \u001b[0m | \u001b[95m 10.0    \u001b[0m | \u001b[95m 0.1     \u001b[0m | \u001b[95m 0.1     \u001b[0m | \u001b[95m 0.9299  \u001b[0m | \u001b[95m 5.0     \u001b[0m | \u001b[95m 5.0     \u001b[0m |\n"
     ]
    },
    {
     "name": "stderr",
     "output_type": "stream",
     "text": [
      "100%|██████████| 856/856 [00:03<00:00, 220.94it/s]\n"
     ]
    },
    {
     "name": "stdout",
     "output_type": "stream",
     "text": [
      "0.013769451270148907 0.029615541931248542 nan\n",
      "| \u001b[0m 62      \u001b[0m | \u001b[0m-0.01032 \u001b[0m | \u001b[0m 3.061   \u001b[0m | \u001b[0m 10.0    \u001b[0m | \u001b[0m 0.1     \u001b[0m | \u001b[0m 0.1     \u001b[0m | \u001b[0m-5.0     \u001b[0m | \u001b[0m 5.0     \u001b[0m | \u001b[0m-2.499   \u001b[0m |\n"
     ]
    },
    {
     "name": "stderr",
     "output_type": "stream",
     "text": [
      "100%|██████████| 859/859 [00:03<00:00, 219.22it/s]\n"
     ]
    },
    {
     "name": "stdout",
     "output_type": "stream",
     "text": [
      "0.9996585859325859 0.002273426374734264 nan\n",
      "| \u001b[0m 63      \u001b[0m | \u001b[0m 0.6484  \u001b[0m | \u001b[0m 0.1     \u001b[0m | \u001b[0m 10.0    \u001b[0m | \u001b[0m 0.1     \u001b[0m | \u001b[0m 0.1     \u001b[0m | \u001b[0m 5.0     \u001b[0m | \u001b[0m 5.0     \u001b[0m | \u001b[0m 5.0     \u001b[0m |\n"
     ]
    },
    {
     "name": "stderr",
     "output_type": "stream",
     "text": [
      "100%|██████████| 859/859 [00:03<00:00, 217.97it/s]\n"
     ]
    },
    {
     "name": "stdout",
     "output_type": "stream",
     "text": [
      "0.999546396575464 0.002273426374734264 nan\n",
      "| \u001b[0m 64      \u001b[0m | \u001b[0m 0.6483  \u001b[0m | \u001b[0m 3.369   \u001b[0m | \u001b[0m 10.0    \u001b[0m | \u001b[0m 0.1     \u001b[0m | \u001b[0m 0.1     \u001b[0m | \u001b[0m 2.739   \u001b[0m | \u001b[0m 5.0     \u001b[0m | \u001b[0m 5.0     \u001b[0m |\n"
     ]
    },
    {
     "name": "stderr",
     "output_type": "stream",
     "text": [
      "100%|██████████| 1401/1401 [00:06<00:00, 212.47it/s]\n"
     ]
    },
    {
     "name": "stdout",
     "output_type": "stream",
     "text": [
      "0.48946428474994774 -0.11409925663969062 nan\n",
      "| \u001b[0m 65      \u001b[0m | \u001b[0m 0.2096  \u001b[0m | \u001b[0m 0.6393  \u001b[0m | \u001b[0m 5.077   \u001b[0m | \u001b[0m 0.6346  \u001b[0m | \u001b[0m 1.767   \u001b[0m | \u001b[0m 4.282   \u001b[0m | \u001b[0m 4.998   \u001b[0m | \u001b[0m 4.661   \u001b[0m |\n"
     ]
    },
    {
     "name": "stderr",
     "output_type": "stream",
     "text": [
      "100%|██████████| 861/861 [00:04<00:00, 214.31it/s]\n"
     ]
    },
    {
     "name": "stdout",
     "output_type": "stream",
     "text": [
      "0.9336053353680533 0.37590690111906905 nan\n",
      "| \u001b[0m 66      \u001b[0m | \u001b[0m 0.3621  \u001b[0m | \u001b[0m 0.8689  \u001b[0m | \u001b[0m 10.0    \u001b[0m | \u001b[0m 3.208   \u001b[0m | \u001b[0m 0.1     \u001b[0m | \u001b[0m 3.398   \u001b[0m | \u001b[0m 5.0     \u001b[0m | \u001b[0m 5.0     \u001b[0m |\n"
     ]
    },
    {
     "name": "stderr",
     "output_type": "stream",
     "text": [
      "100%|██████████| 857/857 [00:03<00:00, 216.36it/s]\n"
     ]
    },
    {
     "name": "stdout",
     "output_type": "stream",
     "text": [
      "0.27322305752052567 -0.008281892073819524 nan\n",
      "| \u001b[0m 67      \u001b[0m | \u001b[0m 0.1778  \u001b[0m | \u001b[0m 1.1     \u001b[0m | \u001b[0m 10.0    \u001b[0m | \u001b[0m 0.1     \u001b[0m | \u001b[0m 3.302   \u001b[0m | \u001b[0m 2.6     \u001b[0m | \u001b[0m 5.0     \u001b[0m | \u001b[0m 5.0     \u001b[0m |\n"
     ]
    },
    {
     "name": "stderr",
     "output_type": "stream",
     "text": [
      "100%|██████████| 1855/1855 [00:09<00:00, 203.26it/s]\n"
     ]
    },
    {
     "name": "stdout",
     "output_type": "stream",
     "text": [
      "0.9622536633705366 0.04454244024878713 nan\n",
      "| \u001b[0m 68      \u001b[0m | \u001b[0m 0.2226  \u001b[0m | \u001b[0m 2.031   \u001b[0m | \u001b[0m 2.842   \u001b[0m | \u001b[0m 0.6765  \u001b[0m | \u001b[0m 0.7119  \u001b[0m | \u001b[0m-4.885   \u001b[0m | \u001b[0m 3.106   \u001b[0m | \u001b[0m 3.035   \u001b[0m |\n"
     ]
    },
    {
     "name": "stderr",
     "output_type": "stream",
     "text": [
      "100%|██████████| 910/910 [00:04<00:00, 213.47it/s]\n"
     ]
    },
    {
     "name": "stdout",
     "output_type": "stream",
     "text": [
      "0.9962143334061433 0.0429729899377299 nan\n",
      "| \u001b[0m 69      \u001b[0m | \u001b[0m 0.5996  \u001b[0m | \u001b[0m 8.91    \u001b[0m | \u001b[0m 9.277   \u001b[0m | \u001b[0m 0.2402  \u001b[0m | \u001b[0m 0.5874  \u001b[0m | \u001b[0m-2.741   \u001b[0m | \u001b[0m 2.701   \u001b[0m | \u001b[0m 2.227   \u001b[0m |\n"
     ]
    },
    {
     "name": "stderr",
     "output_type": "stream",
     "text": [
      "100%|██████████| 1194/1194 [00:05<00:00, 212.35it/s]\n"
     ]
    },
    {
     "name": "stdout",
     "output_type": "stream",
     "text": [
      "0.9991059117070591 0.0070812946188129455 nan\n",
      "| \u001b[0m 70      \u001b[0m | \u001b[0m 0.5091  \u001b[0m | \u001b[0m 10.0    \u001b[0m | \u001b[0m 6.47    \u001b[0m | \u001b[0m 0.1     \u001b[0m | \u001b[0m 0.1     \u001b[0m | \u001b[0m-5.0     \u001b[0m | \u001b[0m 3.385   \u001b[0m | \u001b[0m 2.44    \u001b[0m |\n"
     ]
    },
    {
     "name": "stderr",
     "output_type": "stream",
     "text": [
      "100%|██████████| 854/854 [00:03<00:00, 217.06it/s]\n"
     ]
    },
    {
     "name": "stdout",
     "output_type": "stream",
     "text": [
      "0.999504410555044 0.012952660341526603 nan\n",
      "| \u001b[0m 71      \u001b[0m | \u001b[0m 0.6429  \u001b[0m | \u001b[0m 4.189   \u001b[0m | \u001b[0m 10.0    \u001b[0m | \u001b[0m 0.1     \u001b[0m | \u001b[0m 0.1     \u001b[0m | \u001b[0m-1.224   \u001b[0m | \u001b[0m 3.408   \u001b[0m | \u001b[0m 4.756   \u001b[0m |\n"
     ]
    },
    {
     "name": "stderr",
     "output_type": "stream",
     "text": [
      "100%|██████████| 865/865 [00:04<00:00, 215.57it/s]\n"
     ]
    },
    {
     "name": "stdout",
     "output_type": "stream",
     "text": [
      "0.9806670501146706 -0.002614154801826477 nan\n",
      "| \u001b[0m 72      \u001b[0m | \u001b[0m 0.6347  \u001b[0m | \u001b[0m 8.483   \u001b[0m | \u001b[0m 9.879   \u001b[0m | \u001b[0m 0.3017  \u001b[0m | \u001b[0m 0.6964  \u001b[0m | \u001b[0m 0.06686 \u001b[0m | \u001b[0m 3.804   \u001b[0m | \u001b[0m 4.133   \u001b[0m |\n"
     ]
    },
    {
     "name": "stderr",
     "output_type": "stream",
     "text": [
      "100%|██████████| 857/857 [00:04<00:00, 209.63it/s]\n"
     ]
    },
    {
     "name": "stdout",
     "output_type": "stream",
     "text": [
      "0.9991010469430105 0.012970537665705379 nan\n",
      "| \u001b[0m 73      \u001b[0m | \u001b[0m 0.6417  \u001b[0m | \u001b[0m 5.381   \u001b[0m | \u001b[0m 10.0    \u001b[0m | \u001b[0m 0.1     \u001b[0m | \u001b[0m 0.1     \u001b[0m | \u001b[0m-2.315   \u001b[0m | \u001b[0m 2.411   \u001b[0m | \u001b[0m 2.131   \u001b[0m |\n",
      "| \u001b[0m 74      \u001b[0m | \u001b[0m-1.0     \u001b[0m | \u001b[0m 0.1     \u001b[0m | \u001b[0m 0.1     \u001b[0m | \u001b[0m 10.0    \u001b[0m | \u001b[0m 10.0    \u001b[0m | \u001b[0m 5.0     \u001b[0m | \u001b[0m 5.0     \u001b[0m | \u001b[0m-5.0     \u001b[0m |\n"
     ]
    },
    {
     "name": "stderr",
     "output_type": "stream",
     "text": [
      "100%|██████████| 859/859 [00:04<00:00, 209.41it/s]\n"
     ]
    },
    {
     "name": "stdout",
     "output_type": "stream",
     "text": [
      "0.9997008754090088 0.002273426374734264 nan\n",
      "| \u001b[0m 75      \u001b[0m | \u001b[0m 0.6484  \u001b[0m | \u001b[0m 9.405   \u001b[0m | \u001b[0m 10.0    \u001b[0m | \u001b[0m 0.1     \u001b[0m | \u001b[0m 0.1     \u001b[0m | \u001b[0m 5.0     \u001b[0m | \u001b[0m 5.0     \u001b[0m | \u001b[0m 5.0     \u001b[0m |\n"
     ]
    },
    {
     "name": "stderr",
     "output_type": "stream",
     "text": [
      "100%|██████████| 1221/1221 [00:05<00:00, 213.45it/s]\n"
     ]
    },
    {
     "name": "stdout",
     "output_type": "stream",
     "text": [
      "0.9996104287681044 0.003275336504753365 nan\n",
      "| \u001b[0m 76      \u001b[0m | \u001b[0m 0.5     \u001b[0m | \u001b[0m 10.0    \u001b[0m | \u001b[0m 6.246   \u001b[0m | \u001b[0m 0.1     \u001b[0m | \u001b[0m 0.1     \u001b[0m | \u001b[0m 2.061   \u001b[0m | \u001b[0m 5.0     \u001b[0m | \u001b[0m 5.0     \u001b[0m |\n"
     ]
    },
    {
     "name": "stderr",
     "output_type": "stream",
     "text": [
      "100%|██████████| 859/859 [00:03<00:00, 217.12it/s]\n"
     ]
    },
    {
     "name": "stdout",
     "output_type": "stream",
     "text": [
      "0.9996453109204531 0.0023120350311203503 nan\n",
      "| \u001b[0m 77      \u001b[0m | \u001b[0m 0.6483  \u001b[0m | \u001b[0m 10.0    \u001b[0m | \u001b[0m 10.0    \u001b[0m | \u001b[0m 0.1     \u001b[0m | \u001b[0m 0.1     \u001b[0m | \u001b[0m 3.429   \u001b[0m | \u001b[0m 5.0     \u001b[0m | \u001b[0m 0.4437  \u001b[0m |\n"
     ]
    },
    {
     "name": "stderr",
     "output_type": "stream",
     "text": [
      "100%|██████████| 2448/2448 [00:12<00:00, 198.16it/s]\n"
     ]
    },
    {
     "name": "stdout",
     "output_type": "stream",
     "text": [
      "0.1183890795233098 -0.0490364104577869 nan\n",
      "| \u001b[0m 78      \u001b[0m | \u001b[0m 7.103e-0\u001b[0m | \u001b[0m 0.1     \u001b[0m | \u001b[0m 0.1     \u001b[0m | \u001b[0m 10.0    \u001b[0m | \u001b[0m 10.0    \u001b[0m | \u001b[0m-5.0     \u001b[0m | \u001b[0m-5.0     \u001b[0m | \u001b[0m 5.0     \u001b[0m |\n"
     ]
    },
    {
     "name": "stderr",
     "output_type": "stream",
     "text": [
      "100%|██████████| 856/856 [00:03<00:00, 218.00it/s]\n"
     ]
    },
    {
     "name": "stdout",
     "output_type": "stream",
     "text": [
      "-0.0009349854807959628 0.03401701182016415 nan\n",
      "| \u001b[0m 79      \u001b[0m | \u001b[0m-0.02276 \u001b[0m | \u001b[0m 10.0    \u001b[0m | \u001b[0m 10.0    \u001b[0m | \u001b[0m 0.1     \u001b[0m | \u001b[0m 0.1     \u001b[0m | \u001b[0m 5.0     \u001b[0m | \u001b[0m 5.0     \u001b[0m | \u001b[0m-5.0     \u001b[0m |\n"
     ]
    },
    {
     "name": "stderr",
     "output_type": "stream",
     "text": [
      "100%|██████████| 2447/2447 [00:12<00:00, 201.74it/s]\n"
     ]
    },
    {
     "name": "stdout",
     "output_type": "stream",
     "text": [
      "0.018894020324940204 -0.001116248560422359 nan\n",
      "| \u001b[0m 80      \u001b[0m | \u001b[0m 1.587e-0\u001b[0m | \u001b[0m 10.0    \u001b[0m | \u001b[0m 0.1     \u001b[0m | \u001b[0m 0.1     \u001b[0m | \u001b[0m 10.0    \u001b[0m | \u001b[0m 5.0     \u001b[0m | \u001b[0m-5.0     \u001b[0m | \u001b[0m-5.0     \u001b[0m |\n"
     ]
    },
    {
     "name": "stderr",
     "output_type": "stream",
     "text": [
      "100%|██████████| 2448/2448 [00:12<00:00, 199.87it/s]\n"
     ]
    },
    {
     "name": "stdout",
     "output_type": "stream",
     "text": [
      "0.03208702299349377 -0.04321477584645396 0.4043762297223185\n",
      "| \u001b[0m 81      \u001b[0m | \u001b[0m-0.000230\u001b[0m | \u001b[0m 10.0    \u001b[0m | \u001b[0m 0.1     \u001b[0m | \u001b[0m 10.0    \u001b[0m | \u001b[0m 0.1     \u001b[0m | \u001b[0m-5.0     \u001b[0m | \u001b[0m 5.0     \u001b[0m | \u001b[0m-5.0     \u001b[0m |\n"
     ]
    },
    {
     "name": "stderr",
     "output_type": "stream",
     "text": [
      "100%|██████████| 856/856 [00:03<00:00, 215.27it/s]\n"
     ]
    },
    {
     "name": "stdout",
     "output_type": "stream",
     "text": [
      "0.9976157110001571 0.02377380206173802 nan\n",
      "| \u001b[0m 82      \u001b[0m | \u001b[0m 0.6338  \u001b[0m | \u001b[0m 10.0    \u001b[0m | \u001b[0m 10.0    \u001b[0m | \u001b[0m 0.1     \u001b[0m | \u001b[0m 0.1     \u001b[0m | \u001b[0m 3.751   \u001b[0m | \u001b[0m 1.244   \u001b[0m | \u001b[0m 3.257   \u001b[0m |\n"
     ]
    },
    {
     "name": "stderr",
     "output_type": "stream",
     "text": [
      "100%|██████████| 873/873 [00:04<00:00, 217.95it/s]\n"
     ]
    },
    {
     "name": "stdout",
     "output_type": "stream",
     "text": [
      "0.6479669068786099 -0.014595585316088002 nan\n",
      "| \u001b[0m 83      \u001b[0m | \u001b[0m 0.4172  \u001b[0m | \u001b[0m 8.287   \u001b[0m | \u001b[0m 9.723   \u001b[0m | \u001b[0m 0.1129  \u001b[0m | \u001b[0m 1.684   \u001b[0m | \u001b[0m 3.322   \u001b[0m | \u001b[0m 3.851   \u001b[0m | \u001b[0m 2.025   \u001b[0m |\n"
     ]
    },
    {
     "name": "stderr",
     "output_type": "stream",
     "text": [
      "100%|██████████| 856/856 [00:03<00:00, 220.59it/s]\n"
     ]
    },
    {
     "name": "stdout",
     "output_type": "stream",
     "text": [
      "0.06868189632834161 -0.007902457874890094 nan\n",
      "| \u001b[0m 84      \u001b[0m | \u001b[0m 0.04471 \u001b[0m | \u001b[0m 10.0    \u001b[0m | \u001b[0m 10.0    \u001b[0m | \u001b[0m 0.1     \u001b[0m | \u001b[0m 0.1     \u001b[0m | \u001b[0m 5.0     \u001b[0m | \u001b[0m-3.863   \u001b[0m | \u001b[0m 5.0     \u001b[0m |\n"
     ]
    },
    {
     "name": "stderr",
     "output_type": "stream",
     "text": [
      "100%|██████████| 2447/2447 [00:12<00:00, 201.56it/s]\n"
     ]
    },
    {
     "name": "stdout",
     "output_type": "stream",
     "text": [
      "0.04157788408377884 -0.0011594036370429898 nan\n",
      "| \u001b[0m 85      \u001b[0m | \u001b[0m 3.493e-0\u001b[0m | \u001b[0m 0.1     \u001b[0m | \u001b[0m 0.1     \u001b[0m | \u001b[0m 0.1     \u001b[0m | \u001b[0m 10.0    \u001b[0m | \u001b[0m 5.0     \u001b[0m | \u001b[0m-5.0     \u001b[0m | \u001b[0m 5.0     \u001b[0m |\n",
      "| \u001b[0m 86      \u001b[0m | \u001b[0m-1.0     \u001b[0m | \u001b[0m 0.1     \u001b[0m | \u001b[0m 10.0    \u001b[0m | \u001b[0m 10.0    \u001b[0m | \u001b[0m 10.0    \u001b[0m | \u001b[0m 5.0     \u001b[0m | \u001b[0m-5.0     \u001b[0m | \u001b[0m-5.0     \u001b[0m |\n",
      "| \u001b[0m 87      \u001b[0m | \u001b[0m-1.0     \u001b[0m | \u001b[0m 10.0    \u001b[0m | \u001b[0m 0.1     \u001b[0m | \u001b[0m 10.0    \u001b[0m | \u001b[0m 10.0    \u001b[0m | \u001b[0m-5.0     \u001b[0m | \u001b[0m 5.0     \u001b[0m | \u001b[0m 5.0     \u001b[0m |\n"
     ]
    },
    {
     "name": "stderr",
     "output_type": "stream",
     "text": [
      "100%|██████████| 858/858 [00:03<00:00, 216.95it/s]\n"
     ]
    },
    {
     "name": "stdout",
     "output_type": "stream",
     "text": [
      "0.7712489492724895 0.5299579694715797 0.6414301567743015\n",
      "| \u001b[0m 88      \u001b[0m | \u001b[0m 0.0844  \u001b[0m | \u001b[0m 10.0    \u001b[0m | \u001b[0m 10.0    \u001b[0m | \u001b[0m 5.773   \u001b[0m | \u001b[0m 0.1     \u001b[0m | \u001b[0m 5.0     \u001b[0m | \u001b[0m 5.0     \u001b[0m | \u001b[0m 5.0     \u001b[0m |\n"
     ]
    },
    {
     "name": "stderr",
     "output_type": "stream",
     "text": [
      "100%|██████████| 2448/2448 [00:12<00:00, 198.10it/s]\n"
     ]
    },
    {
     "name": "stdout",
     "output_type": "stream",
     "text": [
      "0.06434324157984408 -0.15314976219264678 nan\n",
      "| \u001b[0m 89      \u001b[0m | \u001b[0m 3.346e-0\u001b[0m | \u001b[0m 0.1     \u001b[0m | \u001b[0m 0.1     \u001b[0m | \u001b[0m 0.1     \u001b[0m | \u001b[0m 0.1     \u001b[0m | \u001b[0m-5.0     \u001b[0m | \u001b[0m 5.0     \u001b[0m | \u001b[0m-5.0     \u001b[0m |\n"
     ]
    },
    {
     "name": "stderr",
     "output_type": "stream",
     "text": [
      "100%|██████████| 857/857 [00:04<00:00, 211.95it/s]\n"
     ]
    },
    {
     "name": "stdout",
     "output_type": "stream",
     "text": [
      "0.9877596780615967 0.05798956479989565 0.08340834453008343\n",
      "| \u001b[0m 90      \u001b[0m | \u001b[0m 0.5884  \u001b[0m | \u001b[0m 0.1     \u001b[0m | \u001b[0m 10.0    \u001b[0m | \u001b[0m 0.1     \u001b[0m | \u001b[0m 0.1     \u001b[0m | \u001b[0m 5.0     \u001b[0m | \u001b[0m-0.07882 \u001b[0m | \u001b[0m 5.0     \u001b[0m |\n"
     ]
    },
    {
     "name": "stderr",
     "output_type": "stream",
     "text": [
      "100%|██████████| 2448/2448 [00:12<00:00, 192.57it/s]\n"
     ]
    },
    {
     "name": "stdout",
     "output_type": "stream",
     "text": [
      "0.9993633912936339 -2.6941608269416083e-05 nan\n",
      "| \u001b[0m 91      \u001b[0m | \u001b[0m 0.000639\u001b[0m | \u001b[0m 10.0    \u001b[0m | \u001b[0m 0.1     \u001b[0m | \u001b[0m 0.1     \u001b[0m | \u001b[0m 0.1     \u001b[0m | \u001b[0m-5.0     \u001b[0m | \u001b[0m-5.0     \u001b[0m | \u001b[0m-5.0     \u001b[0m |\n"
     ]
    },
    {
     "name": "stderr",
     "output_type": "stream",
     "text": [
      "100%|██████████| 856/856 [00:04<00:00, 211.08it/s]\n"
     ]
    },
    {
     "name": "stdout",
     "output_type": "stream",
     "text": [
      "0.9994547126625472 0.01233805709138057 0.01606924802869248\n",
      "| \u001b[0m 92      \u001b[0m | \u001b[0m 0.6402  \u001b[0m | \u001b[0m 0.1     \u001b[0m | \u001b[0m 10.0    \u001b[0m | \u001b[0m 0.1     \u001b[0m | \u001b[0m 0.1     \u001b[0m | \u001b[0m 5.0     \u001b[0m | \u001b[0m 3.507   \u001b[0m | \u001b[0m 0.3679  \u001b[0m |\n"
     ]
    },
    {
     "name": "stderr",
     "output_type": "stream",
     "text": [
      "100%|██████████| 858/858 [00:04<00:00, 213.63it/s]\n"
     ]
    },
    {
     "name": "stdout",
     "output_type": "stream",
     "text": [
      "0.9987242296232424 0.019269432096694322 0.02570850583708506\n",
      "| \u001b[0m 93      \u001b[0m | \u001b[0m 0.6326  \u001b[0m | \u001b[0m 0.1     \u001b[0m | \u001b[0m 10.0    \u001b[0m | \u001b[0m 0.1     \u001b[0m | \u001b[0m 0.1     \u001b[0m | \u001b[0m 5.0     \u001b[0m | \u001b[0m-1.719   \u001b[0m | \u001b[0m-1.218   \u001b[0m |\n"
     ]
    },
    {
     "name": "stderr",
     "output_type": "stream",
     "text": [
      "100%|██████████| 2448/2448 [00:12<00:00, 197.31it/s]\n"
     ]
    },
    {
     "name": "stdout",
     "output_type": "stream",
     "text": [
      "-0.009987976733369984 0.1360369270667343 nan\n",
      "| \u001b[0m 94      \u001b[0m | \u001b[0m-7.593e-0\u001b[0m | \u001b[0m 0.1     \u001b[0m | \u001b[0m 0.1     \u001b[0m | \u001b[0m 0.1     \u001b[0m | \u001b[0m 0.1     \u001b[0m | \u001b[0m 5.0     \u001b[0m | \u001b[0m-5.0     \u001b[0m | \u001b[0m 5.0     \u001b[0m |\n"
     ]
    },
    {
     "name": "stderr",
     "output_type": "stream",
     "text": [
      "100%|██████████| 856/856 [00:03<00:00, 217.26it/s]\n"
     ]
    },
    {
     "name": "stdout",
     "output_type": "stream",
     "text": [
      "0.04711035018963101 0.005803095983297209 nan\n",
      "| \u001b[0m 95      \u001b[0m | \u001b[0m 0.02689 \u001b[0m | \u001b[0m 0.1     \u001b[0m | \u001b[0m 10.0    \u001b[0m | \u001b[0m 0.1     \u001b[0m | \u001b[0m 0.1     \u001b[0m | \u001b[0m 5.0     \u001b[0m | \u001b[0m-5.0     \u001b[0m | \u001b[0m 2.299   \u001b[0m |\n"
     ]
    },
    {
     "name": "stderr",
     "output_type": "stream",
     "text": [
      "100%|██████████| 857/857 [00:03<00:00, 221.28it/s]\n"
     ]
    },
    {
     "name": "stdout",
     "output_type": "stream",
     "text": [
      "0.15323240429065219 -0.039434386494114945 nan\n",
      "| \u001b[0m 96      \u001b[0m | \u001b[0m 0.09963 \u001b[0m | \u001b[0m 0.1     \u001b[0m | \u001b[0m 10.0    \u001b[0m | \u001b[0m 0.1     \u001b[0m | \u001b[0m 10.0    \u001b[0m | \u001b[0m-5.0     \u001b[0m | \u001b[0m-1.677   \u001b[0m | \u001b[0m 5.0     \u001b[0m |\n"
     ]
    },
    {
     "name": "stderr",
     "output_type": "stream",
     "text": [
      "100%|██████████| 2448/2448 [00:12<00:00, 198.17it/s]\n"
     ]
    },
    {
     "name": "stdout",
     "output_type": "stream",
     "text": [
      "0.311542983132686 0.23073251853627505 0.6428044067074721\n",
      "| \u001b[0m 97      \u001b[0m | \u001b[0m-0.000251\u001b[0m | \u001b[0m 0.1     \u001b[0m | \u001b[0m 0.1     \u001b[0m | \u001b[0m 10.0    \u001b[0m | \u001b[0m 0.1     \u001b[0m | \u001b[0m-5.0     \u001b[0m | \u001b[0m-5.0     \u001b[0m | \u001b[0m-5.0     \u001b[0m |\n"
     ]
    },
    {
     "name": "stderr",
     "output_type": "stream",
     "text": [
      "100%|██████████| 852/852 [00:04<00:00, 197.33it/s]\n"
     ]
    },
    {
     "name": "stdout",
     "output_type": "stream",
     "text": [
      "0.9972978492369784 0.025863345366633452 nan\n",
      "| \u001b[0m 98      \u001b[0m | \u001b[0m 0.6341  \u001b[0m | \u001b[0m 10.0    \u001b[0m | \u001b[0m 10.0    \u001b[0m | \u001b[0m 0.1     \u001b[0m | \u001b[0m 0.1     \u001b[0m | \u001b[0m-0.764   \u001b[0m | \u001b[0m 1.026   \u001b[0m | \u001b[0m 5.0     \u001b[0m |\n"
     ]
    },
    {
     "name": "stderr",
     "output_type": "stream",
     "text": [
      "100%|██████████| 2448/2448 [00:12<00:00, 194.36it/s]\n"
     ]
    },
    {
     "name": "stdout",
     "output_type": "stream",
     "text": [
      "0.9993214793372147 0.000871230500712305 nan\n",
      "| \u001b[0m 99      \u001b[0m | \u001b[0m 0.000579\u001b[0m | \u001b[0m 10.0    \u001b[0m | \u001b[0m 0.1     \u001b[0m | \u001b[0m 0.1     \u001b[0m | \u001b[0m 0.1     \u001b[0m | \u001b[0m-5.0     \u001b[0m | \u001b[0m 5.0     \u001b[0m | \u001b[0m 5.0     \u001b[0m |\n"
     ]
    },
    {
     "name": "stderr",
     "output_type": "stream",
     "text": [
      "100%|██████████| 858/858 [00:04<00:00, 213.74it/s]\n"
     ]
    },
    {
     "name": "stdout",
     "output_type": "stream",
     "text": [
      "0.9987139659031397 0.01423857591438576 nan\n",
      "| \u001b[0m 100     \u001b[0m | \u001b[0m 0.6401  \u001b[0m | \u001b[0m 4.324   \u001b[0m | \u001b[0m 10.0    \u001b[0m | \u001b[0m 0.1     \u001b[0m | \u001b[0m 0.1     \u001b[0m | \u001b[0m 5.0     \u001b[0m | \u001b[0m 1.896   \u001b[0m | \u001b[0m 5.0     \u001b[0m |\n"
     ]
    },
    {
     "name": "stderr",
     "output_type": "stream",
     "text": [
      "100%|██████████| 850/850 [00:03<00:00, 220.89it/s]\n"
     ]
    },
    {
     "name": "stdout",
     "output_type": "stream",
     "text": [
      "0.2227013061550131 -0.11254556870890944 nan\n",
      "| \u001b[0m 101     \u001b[0m | \u001b[0m 0.1455  \u001b[0m | \u001b[0m 0.1     \u001b[0m | \u001b[0m 10.0    \u001b[0m | \u001b[0m 0.1     \u001b[0m | \u001b[0m 0.1     \u001b[0m | \u001b[0m 5.0     \u001b[0m | \u001b[0m 0.8968  \u001b[0m | \u001b[0m-5.0     \u001b[0m |\n"
     ]
    },
    {
     "name": "stderr",
     "output_type": "stream",
     "text": [
      "100%|██████████| 859/859 [00:03<00:00, 217.14it/s]\n"
     ]
    },
    {
     "name": "stdout",
     "output_type": "stream",
     "text": [
      "0.9996154521721545 0.002273426374734264 nan\n",
      "| \u001b[0m 102     \u001b[0m | \u001b[0m 0.6483  \u001b[0m | \u001b[0m 10.0    \u001b[0m | \u001b[0m 10.0    \u001b[0m | \u001b[0m 0.1     \u001b[0m | \u001b[0m 0.1     \u001b[0m | \u001b[0m 1.442   \u001b[0m | \u001b[0m 5.0     \u001b[0m | \u001b[0m 5.0     \u001b[0m |\n",
      "=============================================================================================================\n"
     ]
    }
   ],
   "source": [
    "from bayes_opt import BayesianOptimization\n",
    "\n",
    "pbounds = {\n",
    "    'uU': (-5, 5), \n",
    "    'uV': (-5, 5),\n",
    "    'uB': (-5, 5),\n",
    "    'sigmaU': (1e-1, 10), \n",
    "    'sigmaV': (1e-1, 10),\n",
    "    'sigmaB': (1e-1, 10),\n",
    "    'sigmaQ': (1e-1, 10)\n",
    "}\n",
    "\n",
    "optimizer = BayesianOptimization(\n",
    "    f=black_box_function,\n",
    "    pbounds=pbounds,\n",
    "    random_state=0,\n",
    ")\n",
    "optimizer.maximize(\n",
    "    init_points=2,\n",
    "    n_iter=100,\n",
    ")"
   ]
  },
  {
   "cell_type": "code",
   "execution_count": 99,
   "metadata": {},
   "outputs": [
    {
     "data": {
      "text/plain": [
       "{'target': 0.6483976936510781,\n",
       " 'params': {'sigmaB': 0.1,\n",
       "  'sigmaQ': 10.0,\n",
       "  'sigmaU': 0.1,\n",
       "  'sigmaV': 0.1,\n",
       "  'uB': 0.9299444487730857,\n",
       "  'uU': 5.0,\n",
       "  'uV': 5.0}}"
      ]
     },
     "execution_count": 99,
     "metadata": {},
     "output_type": "execute_result"
    }
   ],
   "source": [
    "optimizer.max"
   ]
  },
  {
   "cell_type": "code",
   "execution_count": null,
   "metadata": {},
   "outputs": [],
   "source": []
  }
 ],
 "metadata": {
  "kernelspec": {
   "display_name": "Python 3",
   "language": "python",
   "name": "python3"
  },
  "language_info": {
   "codemirror_mode": {
    "name": "ipython",
    "version": 3
   },
   "file_extension": ".py",
   "mimetype": "text/x-python",
   "name": "python",
   "nbconvert_exporter": "python",
   "pygments_lexer": "ipython3",
   "version": "3.7.6"
  }
 },
 "nbformat": 4,
 "nbformat_minor": 4
}
